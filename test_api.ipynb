{
 "cells": [
  {
   "cell_type": "code",
   "execution_count": 1,
   "metadata": {},
   "outputs": [],
   "source": [
    "import numpy as np\n",
    "from PythonAPI.bam import BAM\n",
    "from PythonAPI.utils.camera import Camera"
   ]
  },
  {
   "cell_type": "markdown",
   "metadata": {},
   "source": [
    "Define the absolute path to the dataset and the dataset name.\n",
    "\n",
    "Create BAM object to load the dataset:\n",
    "\n",
    "- All the annotations will be loaded into memory and processed.\n",
    "- The videos are unrolled in png images by default, but the format can be changed to jpeg."
   ]
  },
  {
   "cell_type": "code",
   "execution_count": 3,
   "metadata": {
    "pycharm": {
     "name": "#%%\n"
    }
   },
   "outputs": [
    {
     "name": "stdout",
     "output_type": "stream",
     "text": [
      "Reading dataset information...\n",
      "Loading calibration parameters...\n",
      "     camera00.json...\n",
      "     camera01.json...\n",
      "     camera02.json...\n",
      "     camera03.json...\n",
      "     camera04.json...\n",
      "     camera05.json...\n",
      "     camera06.json...\n",
      "     camera07.json...\n",
      "     camera08.json...\n",
      "     camera09.json...\n",
      "     camera10.json...\n",
      "     camera11.json...\n",
      "Loading annotations...\n",
      "Processing persons...\n",
      "Processing objects...\n",
      "Processing actions...\n",
      "Finish loading dataset\n"
     ]
    }
   ],
   "source": [
    "dataset_dir = '/home/beatriz/Documentos/Work/final_datasets' # Your path\n",
    "#dataset_dir = '/home/almartmen/Github/aikapi' \n",
    "dataset_name = '181129'\n",
    "\n",
    "bam = BAM(dataset_dir, dataset_name, image_format='png')"
   ]
  },
  {
   "cell_type": "markdown",
   "metadata": {},
   "source": [
    "Get Camera object for camera 3 and frame 1 (Camera usage example can be found below)"
   ]
  },
  {
   "cell_type": "code",
   "execution_count": 4,
   "metadata": {
    "pycharm": {
     "name": "#%%\n"
    },
    "scrolled": true
   },
   "outputs": [
    {
     "name": "stdout",
     "output_type": "stream",
     "text": [
      "{\"K\": [[1059.111083984375, 0.0, 638.343994140625], [0.0, 1058.1497802734375, 394.7500305175781], [0.0, 0.0, 1.0]], \"P\": [[-745.3416037397837, -970.7086534756199, -170.29725224389983, 4867.531825297799], [48.999378047246864, -99.75383605078969, -1122.3262807831234, 2640.7506968589573], [0.36730334162712097, -0.894257664680481, -0.25571754574775696, 5.646644722770345]], \"rvec\": [0.4403006434440613, -2.2728705406188965, 1.7474119663238525], \"tvec\": [1.196131706237793, 0.39258167147636414, 5.646644592285156], \"distCoef\": [0.0, 0.0, 0.0, 0.0, 0.0], \"w\": 1280, \"h\": 720}\n"
     ]
    }
   ],
   "source": [
    "camera = bam.get_camera(3,1)\n",
    "print(camera.to_json())"
   ]
  },
  {
   "cell_type": "markdown",
   "metadata": {},
   "source": [
    "Get an array with all persons annotated in frame 1000"
   ]
  },
  {
   "cell_type": "code",
   "execution_count": 5,
   "metadata": {
    "pycharm": {
     "name": "#%%\n"
    }
   },
   "outputs": [
    {
     "name": "stdout",
     "output_type": "stream",
     "text": [
      "[{'pid': 1, 'location': [[0.4725225083438994, 3.2036562873361634, 1.5915690694943898]], 'type': 'personAIK'}]\n"
     ]
    }
   ],
   "source": [
    "print(bam.get_persons_in_frame(1000))"
   ]
  },
  {
   "cell_type": "markdown",
   "metadata": {},
   "source": [
    "Get an array with all poses annotated in frame 1000"
   ]
  },
  {
   "cell_type": "code",
   "execution_count": 6,
   "metadata": {},
   "outputs": [
    {
     "name": "stdout",
     "output_type": "stream",
     "text": [
      "[{'pid': 1, 'location': [[0.4940468668937683, 3.0975520610809326, 1.5879707336425781], [0.33225908875465393, 3.3022162914276123, 1.4874387979507446], [0.248513141442759, 3.1166828037377776, 1.4797768626685919], [0.20898175630705926, 3.074002764986737, 1.1761494834683632], [0.4430496301335054, 3.003187955078469, 1.0902041995243112], [0.38873064050115674, 3.427037257731697, 1.496395562953885], [0.3684694009394898, 3.523452423490153, 1.2177340325466113], [0.491342276987256, 3.4243839963247877, 1.097171939112425], [0.23896421401011708, 3.189862974200601, 0.9370316866970752], [0.24986874568797326, 3.1303426266153522, 0.554225104984327], [0.1988182237148894, 3.1238738197003224, 0.13678569408919353], [0.3448095801460418, 3.369042606439794, 0.9246938349214029], [0.338286297862635, 3.3997655290610216, 0.5305125781965845], [0.26704269329099944, 3.4579307929059104, 0.12287995423906839], [0.4640180468559265, 3.098863124847412, 1.620947539806366], [0.5159120857715607, 3.104530453681946, 1.6131974458694458], [0.373912051320076, 3.1984314918518066, 1.661201536655426], [0.44567590951919556, 3.4155161380767822, 1.6613013744354248], [0.41775786876678467, 3.447473168373108, 0.09681456908583641], [None, None, None], [0.23499519377946854, 3.466580867767334, 0.06517711095511913], [0.3403117209672928, 2.8735851049423218, 0.1176888756453991], [0.29075057804584503, 2.879407286643982, 0.11120006069540977], [0.16561637073755264, 3.166993737220764, 0.08272380754351616]], 'type': 'poseAIK'}]\n"
     ]
    }
   ],
   "source": [
    "print(bam.get_poses_in_frame(1000))"
   ]
  },
  {
   "cell_type": "markdown",
   "metadata": {},
   "source": [
    "Get an array with all static objects annotated in frame 1000"
   ]
  },
  {
   "cell_type": "code",
   "execution_count": 7,
   "metadata": {},
   "outputs": [
    {
     "name": "stdout",
     "output_type": "stream",
     "text": [
      "[{'oid': 20, 'location': [[0.9598409870484396, 2.4812725489781413, 2.053094516336073], [0.9706024595141435, 3.0312496406840537, 2.053094516336073], [1.372129809595394, 2.661270772080614, 1.5543655685149877]], 'type': 'boxAIK', 'labels': ['Kitchen_cupboard_01']}\n",
      " {'oid': 21, 'location': [[1.017454463725677, 1.7958036093454395, 2.066889878935544], [0.9775184289155724, 2.4229043068789187, 2.066889878935544], [1.338857589747797, 1.913120755120264, 1.5234664735124044]], 'type': 'boxAIK', 'labels': ['Kitchen_cupboard_02']}\n",
      " {'oid': 22, 'location': [[0.9689293041908219, 1.2143956651620191, 2.0541350961891975], [0.9482730741437232, 1.8523078667285795, 2.0541350961891975], [1.3521449456836714, 1.2981388990592742, 1.5342120816088987]], 'type': 'boxAIK', 'labels': ['Kitchen_cupboard_03']}\n",
      " {'oid': 23, 'location': [[0.9866307154133618, 0.6217382504567678, 2.061326030212239], [0.9749673268564821, 1.2198054101765106, 2.061326030212239], [1.5450023734038647, 0.7065101054804352, 1.4824001902224007]], 'type': 'boxAIK', 'labels': ['Kitchen_cupboard_04']}\n",
      " {'oid': 24, 'location': [[0.7446923572960259, 2.4563128406989994, 0.8367114547890067], [0.7318844156574759, 3.0267270005564235, 0.8367114547890067], [1.236035168370074, 2.6805670957513748, 0.0]], 'type': 'boxAIK', 'labels': ['Kitchen_lower_cupboard_01']}\n",
      " {'oid': 25, 'location': [[0.7850354087883916, 1.8294252022848128, 0.817484015752129], [0.7652760708492923, 2.4219147576545095, 0.817484015752129], [1.1705982331474827, 2.029585191234402, 1.7274217755611675e-16]], 'type': 'boxAIK', 'labels': ['Kitchen_lower_cupboard_02']}\n",
      " {'oid': 26, 'location': [[0.7621172895398649, 0.6335535373654485, 0.8473927706741313], [0.7607717529944157, 1.2168983952109196, 0.8473927706741313], [1.230478883047568, 0.8396363435469821, 2.2122978399962518e-16]], 'type': 'boxAIK', 'labels': ['Kitchen_lower_cupboard_03']}\n",
      " {'oid': 27, 'location': [[0.775879935805018, 1.2449039577826333, 0.8158967769255103], [0.7755204618648285, 1.8599915895846406, 0.8158967769255103], [1.6245620420993472, 1.0324801720327674, -0.06264367028388816]], 'type': 'boxAIK', 'labels': ['Dishwasher']}\n",
      " {'oid': 28, 'location': [[-0.44396443474598946, 2.1262863592596735, 0.7268118684140557], [-1.219464579679099, 2.1678584813626, 0.7268118684140557], [-0.4994644129706072, 2.988665346088775, 4.955449026536655e-16]], 'type': 'boxAIK', 'labels': ['Kitchen_table']}\n",
      " {'oid': 29, 'location': [[-0.7072176539914667, 1.655409955391369, 0.8200624237842338], [-1.033289845471742, 1.6325126718547096, 0.8200624237842338], [-0.6327419839352179, 2.0672892874690767, 2.81669119508134e-16]], 'type': 'boxAIK', 'labels': ['Kitchen_table_chair_01']}\n",
      " {'oid': 30, 'location': [[-0.7020608107862257, 3.3047837767585064, 0.8243141201895909], [-1.0020304129396431, 3.327936876122006, 0.8243141201895909], [-0.679286188463801, 2.931133324897141, 0.0]], 'type': 'boxAIK', 'labels': ['Kitchen_table_chair_02']}\n",
      " {'oid': 31, 'location': [[0.9715757445852261, 2.3368128575695155, 1.1296161787291936], [0.9799402541204927, 2.781724667500806, 1.1296161787291936], [1.2957125824402413, 2.3249499395886772, 0.898717681155846]], 'type': 'boxAIK', 'labels': ['Microwave']}\n",
      " {'oid': 32, 'location': [[0.8728463129692555, 3.133118211201179, 1.1462636411122062], [0.8729550042880506, 3.4268094750061664, 1.1462636411122062], [1.171493834582054, 3.147444928565349, 0.7892196375061443]], 'type': 'boxAIK', 'labels': ['Coffee_machine']}\n",
      " {'oid': 33, 'location': [[0.8666867588392152, 1.074146430352209, 0.862756318225836], [0.8672894113223912, 0.7443832799135883, 0.862756318225836], [1.1274629797645537, 1.0450477194924443, 0.7624634167826772]], 'type': 'boxAIK', 'labels': ['Sink']}\n",
      " {'oid': 34, 'location': [[0.7356614012764555, 3.057726060190079, 0.7117225289271514], [0.7268574018417487, 3.4601332874024067, 0.7117225289271514], [1.2697090433754508, 3.166775690215124, -6.391201407328408e-17]], 'type': 'boxAIK', 'labels': ['Drawers']}\n",
      " {'oid': 35, 'location': [[-2.3502592676470435, -3.5604986523948217, 0.37573240068690417], [-2.421194096088856, -3.092195809754513, 0.37573240068690417], [-1.6335994597477708, -3.585378740132568, 0.0]], 'type': 'boxAIK', 'labels': ['Glass_table']}\n",
      " {'oid': 36, 'location': [[-2.5799734928965807, -2.1466542981133014, 0.7351724426892468], [-1.3226754215250578, -2.1424370672584065, 0.7351724426892468], [-2.5334037741745967, -2.564784280166779, 0.0]], 'type': 'boxAIK', 'labels': ['Sofa']}\n",
      " {'oid': 37, 'location': [[-3.1154279170779846, -3.6992972578011942, 0.7363147617704804], [-3.215430167405845, -3.0780966945171397, 0.7363147617704804], [-2.7156189217037046, -3.6779552328172485, 0.0]], 'type': 'boxAIK', 'labels': ['Sofachair_01']}\n",
      " {'oid': 38, 'location': [[-1.2619145884000662, -3.6470097048897703, 0.6869521508195711], [-1.2725091245325848, -3.001348814449434, 0.6869521508195711], [-0.726631099572837, -3.5054765173426805, 0.0]], 'type': 'boxAIK', 'labels': ['Sofachair_02']}\n",
      " {'oid': 39, 'location': [[-0.8654491333711316, -4.674121039286366, 2.0664694050824517], [-3.201174757689463, -4.696026632748139, 2.0664694050824517], [-0.8750465363776707, -4.687500929754998, 0.9324985461553925]], 'type': 'boxAIK', 'labels': ['Whiteboard_01']}\n",
      " {'oid': 40, 'location': [[0.9335308180312869, -3.496574739489963, 0.7873132436809885], [1.0192547820742235, -4.68880147141766, 0.7873132436809885], [1.2692520465533728, -3.4840847067819403, 0.0]], 'type': 'boxAIK', 'labels': ['Storage']}\n",
      " {'oid': 41, 'location': [[1.1415143674516706, 1.9263494472728167, 1.111757912428542], [1.134432097746051, 2.0301067151788725, 1.111757912428542], [1.2270447381346292, 1.9260083083168262, 0.88862280225534]], 'type': 'boxAIK', 'labels': ['Wate_kettle']}\n",
      " {'oid': 42, 'location': [[-3.5799243583046514, -4.519372977026569, 0.32930777108840137], [-3.291384374506267, -4.487631260484121, 0.3656561467933696]], 'type': 'cylinderAIK', 'labels': ['Trash_can_01']}]\n"
     ]
    }
   ],
   "source": [
    "print(bam.get_static_objects_in_frame(1000))"
   ]
  },
  {
   "cell_type": "markdown",
   "metadata": {},
   "source": [
    "Get the annotated person with pid 1 in frame 999"
   ]
  },
  {
   "cell_type": "code",
   "execution_count": 8,
   "metadata": {
    "pycharm": {
     "name": "#%%\n"
    }
   },
   "outputs": [
    {
     "name": "stdout",
     "output_type": "stream",
     "text": [
      "[[0.49833926 3.21710291 1.58288691]]\n"
     ]
    }
   ],
   "source": [
    "points3d_person = bam.get_person_in_frame(999, 1)\n",
    "print(points3d_person)"
   ]
  },
  {
   "cell_type": "markdown",
   "metadata": {},
   "source": [
    "Get the pose for person with pid 1 in frame 999"
   ]
  },
  {
   "cell_type": "code",
   "execution_count": 9,
   "metadata": {},
   "outputs": [
    {
     "name": "stdout",
     "output_type": "stream",
     "text": [
      "[[0.5035534501075745 3.130488157272339 1.5877115726470947]\n",
      " [0.33670544624328613 3.3233115673065186 1.4915584325790405]\n",
      " [0.2601630934244206 3.1344935528657083 1.4807234524039452]\n",
      " [0.23090367223047764 3.0881537576408444 1.1747466193888727]\n",
      " [0.4624710651429028 3.029305688118087 1.0831168845064802]\n",
      " [0.3856729454498077 3.455096568910931 1.4978647658373092]\n",
      " [0.3619406195839864 3.5508452311951317 1.2187215628731682]\n",
      " [0.4886760044595372 3.4570746179859917 1.0985927148803882]\n",
      " [0.24285354310399074 3.209109735748986 0.937708336249335]\n",
      " [0.25412233062007106 3.1515303312903313 0.5549463394038321]\n",
      " [0.20223532605420524 3.136944223773778 0.1367580121232862]\n",
      " [0.34022819265764337 3.3945968087010883 0.9251715573337408]\n",
      " [0.331675231308763 3.423327599530494 0.525658220126438]\n",
      " [0.26221012966169743 3.468437276697019 0.11578491871101904]\n",
      " [0.47325873374938965 3.134596586227417 1.6200170516967773]\n",
      " [0.5254986882209778 3.126495838165283 1.611875295639038]\n",
      " [0.3865627348423004 3.2179574966430664 1.6643463373184204]\n",
      " [0.45403292775154114 3.440657615661621 1.6612342596054077]\n",
      " [0.4229675829410553 3.4583511352539062 0.09613849222660065]\n",
      " [None None None]\n",
      " [0.22902971506118774 3.5008974075317383 0.052571285516023636]\n",
      " [0.37549903988838196 2.927037000656128 0.10360845178365707]\n",
      " [0.330640584230423 2.94777774810791 0.08390694111585617]\n",
      " [0.18403440713882446 3.147005319595337 0.10133621841669083]]\n"
     ]
    }
   ],
   "source": [
    "points3d_pose = bam.get_pose_in_frame(999, 1)\n",
    "print(points3d_pose)"
   ]
  },
  {
   "cell_type": "markdown",
   "metadata": {},
   "source": [
    "Get the static object with pid 1 in frame 999"
   ]
  },
  {
   "cell_type": "code",
   "execution_count": 10,
   "metadata": {},
   "outputs": [
    {
     "name": "stdout",
     "output_type": "stream",
     "text": [
      "[[0.95984099 2.48127255 2.05309452]\n",
      " [0.97060246 3.03124964 2.05309452]\n",
      " [1.37212981 2.66127077 1.55436557]]\n"
     ]
    }
   ],
   "source": [
    "points3d_static_obj = bam.get_static_object_in_frame(999, 20)\n",
    "print(points3d_static_obj)"
   ]
  },
  {
   "cell_type": "markdown",
   "metadata": {},
   "source": [
    "Using Camera object to project 3D points into the 2D image plane"
   ]
  },
  {
   "cell_type": "code",
   "execution_count": 11,
   "metadata": {},
   "outputs": [
    {
     "name": "stdout",
     "output_type": "stream",
     "text": [
      "[[433.4901123 223.1262207]]\n"
     ]
    }
   ],
   "source": [
    "points2d_person = camera.project_points(points3d_person)\n",
    "print(points2d_person)"
   ]
  },
  {
   "cell_type": "markdown",
   "metadata": {},
   "source": [
    "Using Camera object to project 3D points of the pose into the 2D image plane"
   ]
  },
  {
   "cell_type": "code",
   "execution_count": 12,
   "metadata": {},
   "outputs": [
    {
     "name": "stdout",
     "output_type": "stream",
     "text": [
      "[[450.8388366699219 217.81466674804688]\n",
      " [470.61767578125 270.0149841308594]\n",
      " [538.8987426757812 265.5368347167969]\n",
      " [561.4820556640625 384.7188720703125]\n",
      " [494.21343994140625 405.29412841796875]\n",
      " [419.7138671875 274.1397399902344]\n",
      " [411.8172912597656 409.0498046875]\n",
      " [391.7168884277344 443.5646667480469]\n",
      " [537.956298828125 488.101806640625]\n",
      " [548.814697265625 618.168212890625]\n",
      " [572.6828002929688 759.2857666015625]\n",
      " [464.9683837890625 513.0198974609375]\n",
      " [469.81256103515625 671.6459350585938]\n",
      " [492.6123046875 834.9786376953125]\n",
      " [459.8658752441406 205.0677032470703]\n",
      " [443.5933532714844 207.6044158935547]\n",
      " [472.044921875 189.6732635498047]\n",
      " [392.3619689941406 197.2364501953125]\n",
      " [439.4338684082031 823.7847290039062]\n",
      " [None None]\n",
      " [498.9254150390625 868.6483764648438]\n",
      " [550.8798828125 717.7140502929688]\n",
      " [561.549560546875 730.377685546875]\n",
      " [577.42626953125 774.226806640625]]\n"
     ]
    }
   ],
   "source": [
    "points2d_pose = camera.project_points(points3d_pose)\n",
    "print(points2d_pose)"
   ]
  },
  {
   "cell_type": "markdown",
   "metadata": {},
   "source": [
    "Get an array with all activities for person with pid 2"
   ]
  },
  {
   "cell_type": "code",
   "execution_count": 13,
   "metadata": {
    "pycharm": {
     "name": "#%%\n"
    }
   },
   "outputs": [
    {
     "name": "stdout",
     "output_type": "stream",
     "text": [
      "[{'label': 'carry plate', 'start_frame': 2271, 'end_frame': 2367}\n",
      " {'label': 'carry cake', 'start_frame': 2647, 'end_frame': 2739}\n",
      " {'label': 'carry cup', 'start_frame': 1009, 'end_frame': 1187}\n",
      " {'label': 'open fridge', 'start_frame': 1197, 'end_frame': 1229}\n",
      " {'label': 'take cake out of fridge', 'start_frame': 1245, 'end_frame': 1345}\n",
      " {'label': 'carry cake', 'start_frame': 1271, 'end_frame': 1387}\n",
      " {'label': 'close fridge', 'start_frame': 1333, 'end_frame': 1363}\n",
      " {'label': 'place cake on table', 'start_frame': 1387, 'end_frame': 1399}\n",
      " {'label': 'open drawer', 'start_frame': 1531, 'end_frame': 1571}\n",
      " {'label': 'close drawer', 'start_frame': 1607, 'end_frame': 1649}\n",
      " {'label': 'cut cake in pieces', 'start_frame': 1723, 'end_frame': 2105}\n",
      " {'label': 'open cupboard', 'start_frame': 2133, 'end_frame': 2159}\n",
      " {'label': 'close cupboard', 'start_frame': 2159, 'end_frame': 2199}\n",
      " {'label': 'open cupboard', 'start_frame': 2223, 'end_frame': 2253}\n",
      " {'label': 'close cupboard', 'start_frame': 2275, 'end_frame': 2297}\n",
      " {'label': 'cut cake in pieces', 'start_frame': 2367, 'end_frame': 2599}\n",
      " {'label': 'place cake on plate', 'start_frame': 2599, 'end_frame': 2745}\n",
      " {'label': 'washing hands', 'start_frame': 2845, 'end_frame': 2983}\n",
      " {'label': 'carry plate', 'start_frame': 3017, 'end_frame': 3265}\n",
      " {'label': 'open drawer', 'start_frame': 3041, 'end_frame': 3069}\n",
      " {'label': 'close drawer', 'start_frame': 3091, 'end_frame': 3137}\n",
      " {'label': 'take cup from coffee machine', 'start_frame': 3189, 'end_frame': 3205}\n",
      " {'label': 'carry cup', 'start_frame': 3199, 'end_frame': 3233}\n",
      " {'label': 'carry cup', 'start_frame': 3301, 'end_frame': 3341}\n",
      " {'label': 'place cup onto coffee machine', 'start_frame': 3325, 'end_frame': 3343}\n",
      " {'label': 'make coffee', 'start_frame': 3335, 'end_frame': 4731}\n",
      " {'label': 'press coffee button', 'start_frame': 3353, 'end_frame': 3371}\n",
      " {'label': 'carry plate', 'start_frame': 3919, 'end_frame': 3997}\n",
      " {'label': 'take cup from coffee machine', 'start_frame': 4713, 'end_frame': 4759}\n",
      " {'label': 'carry cup', 'start_frame': 4719, 'end_frame': 4787}\n",
      " {'label': 'open fridge', 'start_frame': 4807, 'end_frame': 4841}\n",
      " {'label': 'take milk', 'start_frame': 4859, 'end_frame': 5173}\n",
      " {'label': 'close fridge', 'start_frame': 4861, 'end_frame': 4895}\n",
      " {'label': 'pour milk', 'start_frame': 4969, 'end_frame': 5043}\n",
      " {'label': 'open fridge', 'start_frame': 5113, 'end_frame': 5135}\n",
      " {'label': 'close fridge', 'start_frame': 5219, 'end_frame': 5251}\n",
      " {'label': 'clean countertop', 'start_frame': 5249, 'end_frame': 5289}\n",
      " {'label': 'carry cup', 'start_frame': 5251, 'end_frame': 5335}\n",
      " {'label': 'carry plate', 'start_frame': 5381, 'end_frame': 5599}\n",
      " {'label': 'carry cup', 'start_frame': 5475, 'end_frame': 5599}\n",
      " {'label': 'talking', 'start_frame': 1613, 'end_frame': 1659}\n",
      " {'label': 'talking', 'start_frame': 1695, 'end_frame': 1745}\n",
      " {'label': 'talking', 'start_frame': 1755, 'end_frame': 1795}\n",
      " {'label': 'walking', 'start_frame': 1001, 'end_frame': 1147}\n",
      " {'label': 'standing', 'start_frame': 1149, 'end_frame': 1181}\n",
      " {'label': 'leaning down', 'start_frame': 1183, 'end_frame': 1315}\n",
      " {'label': 'standing up', 'start_frame': 1317, 'end_frame': 1351}\n",
      " {'label': 'standing', 'start_frame': 1353, 'end_frame': 2199}\n",
      " {'label': 'steps', 'start_frame': 1505, 'end_frame': 1533}\n",
      " {'label': 'steps', 'start_frame': 2129, 'end_frame': 2153}\n",
      " {'label': 'steps', 'start_frame': 2199, 'end_frame': 2237}\n",
      " {'label': 'standing', 'start_frame': 2237, 'end_frame': 2315}\n",
      " {'label': 'steps', 'start_frame': 2305, 'end_frame': 2353}\n",
      " {'label': 'walking', 'start_frame': 2317, 'end_frame': 2349}\n",
      " {'label': 'standing', 'start_frame': 2351, 'end_frame': 2799}\n",
      " {'label': 'walking', 'start_frame': 2799, 'end_frame': 2847}\n",
      " {'label': 'steps', 'start_frame': 2799, 'end_frame': 2851}\n",
      " {'label': 'standing', 'start_frame': 2849, 'end_frame': 2979}\n",
      " {'label': 'steps', 'start_frame': 2977, 'end_frame': 3033}\n",
      " {'label': 'walking', 'start_frame': 2981, 'end_frame': 3031}\n",
      " {'label': 'standing', 'start_frame': 3033, 'end_frame': 3135}\n",
      " {'label': 'steps', 'start_frame': 3131, 'end_frame': 3185}\n",
      " {'label': 'walking', 'start_frame': 3137, 'end_frame': 3181}\n",
      " {'label': 'standing', 'start_frame': 3183, 'end_frame': 3399}\n",
      " {'label': 'steps', 'start_frame': 3309, 'end_frame': 3327}\n",
      " {'label': 'steps', 'start_frame': 3391, 'end_frame': 3425}\n",
      " {'label': 'standing', 'start_frame': 3435, 'end_frame': 3543}\n",
      " {'label': 'steps', 'start_frame': 3447, 'end_frame': 3471}\n",
      " {'label': 'steps', 'start_frame': 3561, 'end_frame': 3577}\n",
      " {'label': 'standing', 'start_frame': 3575, 'end_frame': 3641}\n",
      " {'label': 'steps', 'start_frame': 3643, 'end_frame': 3675}\n",
      " {'label': 'standing', 'start_frame': 3677, 'end_frame': 3943}\n",
      " {'label': 'walking', 'start_frame': 3945, 'end_frame': 3999}\n",
      " {'label': 'standing', 'start_frame': 3999, 'end_frame': 4021}\n",
      " {'label': 'walking', 'start_frame': 4023, 'end_frame': 4073}\n",
      " {'label': 'standing', 'start_frame': 4075, 'end_frame': 4761}\n",
      " {'label': 'steps', 'start_frame': 4763, 'end_frame': 4787}\n",
      " {'label': 'standing', 'start_frame': 4789, 'end_frame': 4799}\n",
      " {'label': 'steps', 'start_frame': 4799, 'end_frame': 4823}\n",
      " {'label': 'standing', 'start_frame': 4825, 'end_frame': 4883}\n",
      " {'label': 'steps', 'start_frame': 4885, 'end_frame': 4911}\n",
      " {'label': 'standing', 'start_frame': 4911, 'end_frame': 5115}\n",
      " {'label': 'leaning down', 'start_frame': 5117, 'end_frame': 5217}\n",
      " {'label': 'standing', 'start_frame': 5219, 'end_frame': 5289}\n",
      " {'label': 'walking', 'start_frame': 5291, 'end_frame': 5385}\n",
      " {'label': 'standing', 'start_frame': 5387, 'end_frame': 5423}\n",
      " {'label': 'steps', 'start_frame': 5425, 'end_frame': 5461}\n",
      " {'label': 'standing', 'start_frame': 5463, 'end_frame': 5493}\n",
      " {'label': 'walking', 'start_frame': 5493, 'end_frame': 5599}\n",
      " {'label': 'walking', 'start_frame': 28089, 'end_frame': 28275}\n",
      " {'label': 'walking', 'start_frame': 31647, 'end_frame': 31793}\n",
      " {'label': 'walking', 'start_frame': 34713, 'end_frame': 34879}]\n"
     ]
    }
   ],
   "source": [
    "print(bam.get_activities_for_person(2))"
   ]
  },
  {
   "cell_type": "markdown",
   "metadata": {},
   "source": [
    "Unroll videos using the format indicated in the constructor (This may take a while):\n",
    "- By default, all videos are unrolled and if the frames already exists, they are not overwritten\n",
    "- In order to unroll only one video, you can use the parameter video=X\n",
    "- If you want to overwrite the existing frames, you have to use force=True\n",
    "\n",
    "If the videos are not unrolled before getting the individual frames, then they will be automatically unrolled when you try to get the frames."
   ]
  },
  {
   "cell_type": "code",
   "execution_count": 46,
   "metadata": {},
   "outputs": [
    {
     "name": "stdout",
     "output_type": "stream",
     "text": [
      "The videos are already unrolled. If you want to unroll them again and overwrite the current frames, please use the option force=True\n"
     ]
    }
   ],
   "source": [
    "bam.unroll_videos()\n",
    "#bam.unroll_videos(force=True)             # Force to overwrite unrolled frames\n",
    "#bam.unroll_videos(video=2)                # Unroll only video 2\n",
    "#bam.unroll_videos(force=True, video=2)    # Force to overwrite frames of video 2 if they already exist"
   ]
  },
  {
   "cell_type": "markdown",
   "metadata": {},
   "source": [
    "Get images from 12 cameras for frame 1.\n"
   ]
  },
  {
   "cell_type": "code",
   "execution_count": 10,
   "metadata": {
    "pycharm": {
     "name": "#%%\n"
    }
   },
   "outputs": [
    {
     "name": "stdout",
     "output_type": "stream",
     "text": [
      "Searching for images of frame  1 ...\n",
      "Frame name: frame000000001.png\n",
      "Images of frame  1  retrieved.\n",
      "[[[[115 110 105]\n",
      "   [115 110 105]\n",
      "   [113 108 103]\n",
      "   ...\n",
      "   [117 113  94]\n",
      "   [117 113  94]\n",
      "   [117 113  94]]\n",
      "\n",
      "  [[115 110 105]\n",
      "   [115 110 105]\n",
      "   [113 108 103]\n",
      "   ...\n",
      "   [117 113  94]\n",
      "   [117 113  94]\n",
      "   [117 113  94]]\n",
      "\n",
      "  [[115 110 105]\n",
      "   [115 110 105]\n",
      "   [113 108 103]\n",
      "   ...\n",
      "   [117 113  94]\n",
      "   [117 113  94]\n",
      "   [117 113  94]]\n",
      "\n",
      "  ...\n",
      "\n",
      "  [[106 101  98]\n",
      "   [106 101  98]\n",
      "   [106 101  98]\n",
      "   ...\n",
      "   [161 157 141]\n",
      "   [161 157 141]\n",
      "   [161 157 141]]\n",
      "\n",
      "  [[106 101  98]\n",
      "   [106 101  98]\n",
      "   [106 101  98]\n",
      "   ...\n",
      "   [161 157 141]\n",
      "   [161 157 141]\n",
      "   [161 157 141]]\n",
      "\n",
      "  [[106 101  98]\n",
      "   [106 101  98]\n",
      "   [106 101  98]\n",
      "   ...\n",
      "   [161 157 141]\n",
      "   [161 157 141]\n",
      "   [161 157 141]]]\n",
      "\n",
      "\n",
      " [[[232 220 200]\n",
      "   [232 220 200]\n",
      "   [232 220 200]\n",
      "   ...\n",
      "   [111 111 106]\n",
      "   [111 111 106]\n",
      "   [111 111 106]]\n",
      "\n",
      "  [[232 220 200]\n",
      "   [232 220 200]\n",
      "   [232 220 200]\n",
      "   ...\n",
      "   [111 111 106]\n",
      "   [111 111 106]\n",
      "   [111 111 106]]\n",
      "\n",
      "  [[232 220 200]\n",
      "   [232 220 200]\n",
      "   [232 220 200]\n",
      "   ...\n",
      "   [111 111 106]\n",
      "   [111 111 106]\n",
      "   [111 111 106]]\n",
      "\n",
      "  ...\n",
      "\n",
      "  [[162 157 152]\n",
      "   [161 156 151]\n",
      "   [157 152 147]\n",
      "   ...\n",
      "   [191 197 205]\n",
      "   [191 197 205]\n",
      "   [191 197 205]]\n",
      "\n",
      "  [[162 157 152]\n",
      "   [161 156 151]\n",
      "   [157 152 147]\n",
      "   ...\n",
      "   [191 197 205]\n",
      "   [191 197 205]\n",
      "   [191 197 205]]\n",
      "\n",
      "  [[161 156 151]\n",
      "   [160 155 150]\n",
      "   [156 151 146]\n",
      "   ...\n",
      "   [191 197 205]\n",
      "   [191 197 205]\n",
      "   [191 197 205]]]]\n"
     ]
    }
   ],
   "source": [
    "print(bam.get_images_in_frame(1))"
   ]
  },
  {
   "cell_type": "markdown",
   "metadata": {
    "pycharm": {
     "name": "#%%\n"
    }
   },
   "source": [
    "Get all the available person IDs existing in the dataset."
   ]
  },
  {
   "cell_type": "code",
   "execution_count": 14,
   "metadata": {
    "pycharm": {
     "name": "#%%\n"
    }
   },
   "outputs": [
    {
     "name": "stdout",
     "output_type": "stream",
     "text": [
      "[ 1  2  3  4  5  6  7  8  9 10 11 12 13 14 15 16 17 19]\n"
     ]
    }
   ],
   "source": [
    "print(bam.get_person_ids())"
   ]
  },
  {
   "cell_type": "markdown",
   "metadata": {},
   "source": [
    "Get all the available static objects IDs existing in the dataset."
   ]
  },
  {
   "cell_type": "code",
   "execution_count": 15,
   "metadata": {},
   "outputs": [
    {
     "name": "stdout",
     "output_type": "stream",
     "text": [
      "[20 21 22 23 24 25 26 27 28 29 30 31 32 33 34 35 36 37 38 39 40 41 42]\n"
     ]
    }
   ],
   "source": [
    "print(bam.get_static_object_ids())"
   ]
  },
  {
   "cell_type": "markdown",
   "metadata": {
    "pycharm": {
     "name": "#%% md\n"
    }
   },
   "source": [
    "Get the total number of frames in the dataset"
   ]
  },
  {
   "cell_type": "code",
   "execution_count": 16,
   "metadata": {},
   "outputs": [
    {
     "name": "stdout",
     "output_type": "stream",
     "text": [
      "12\n"
     ]
    }
   ],
   "source": [
    "print(bam.get_total_cameras())"
   ]
  },
  {
   "cell_type": "markdown",
   "metadata": {
    "pycharm": {
     "name": "#%% md\n"
    }
   },
   "source": [
    "Get the total number of cameras in the dataset"
   ]
  },
  {
   "cell_type": "code",
   "execution_count": 17,
   "metadata": {},
   "outputs": [
    {
     "name": "stdout",
     "output_type": "stream",
     "text": [
      "129723\n"
     ]
    }
   ],
   "source": [
    "print(bam.get_total_frames())"
   ]
  },
  {
   "cell_type": "markdown",
   "metadata": {},
   "source": [
    "Get activities in the dataset"
   ]
  },
  {
   "cell_type": "code",
   "execution_count": 18,
   "metadata": {
    "pycharm": {
     "name": "#%%\n"
    }
   },
   "outputs": [
    {
     "name": "stdout",
     "output_type": "stream",
     "text": [
      "['carry cake' 'carry cup' 'carry plate' 'carry whiteboard eraser'\n",
      " 'carry whiteboard marker' 'check water in coffee machine'\n",
      " 'clean countertop' 'clean dish' 'close cupboard' 'close dishwasher '\n",
      " 'close drawer' 'close fridge' 'cut cake in pieces' 'draw on whiteboard'\n",
      " 'drink' 'eat cake' 'eat fruit' 'empty cup in sink'\n",
      " 'empty ground from coffee machine' 'empty water from coffee machine'\n",
      " 'erase on whiteboard' 'fill coffee beens' 'fill water to coffee machine'\n",
      " 'leaning' 'leaning down' 'make coffee' 'mark coffee' 'open cupboard'\n",
      " 'open dishwasher' 'open drawer' 'open fridge' 'open window' 'peal fruit'\n",
      " 'phone call' 'place cake on plate' 'place cake on table'\n",
      " 'place cup onto coffee machine' 'place in dishwasher'\n",
      " 'place sheet onto whiteboard' 'place water tank in coffee machine'\n",
      " 'pour kettle' 'pour milk' 'press coffee button' 'put cup in microwave'\n",
      " 'put sugar in cup' 'put water in glass' 'read paper'\n",
      " 'remove sheet from whiteboard' 'sitting' 'sitting down' 'standing'\n",
      " 'standing up' 'start microwave' 'steps' 'take cake out of fridge'\n",
      " 'take cup from coffee machine' 'take cup out of microwave' 'take kettle'\n",
      " 'take milk' 'take water from sink' 'take water tank from coffee machine'\n",
      " 'talking' 'throw in trash' 'use laptop' 'use smartphone' 'walking'\n",
      " 'washing hands']\n"
     ]
    }
   ],
   "source": [
    "print(bam.get_activity_names())"
   ]
  },
  {
   "cell_type": "markdown",
   "metadata": {
    "pycharm": {
     "name": "#%%\n"
    }
   },
   "source": [
    "Get all annotations in the dataset for person 1"
   ]
  },
  {
   "cell_type": "code",
   "execution_count": 20,
   "metadata": {},
   "outputs": [
    {
     "name": "stdout",
     "output_type": "stream",
     "text": [
      "[{'pid': 1, 'location': [[1.2611400493774616, -1.5399593307838264, 1.5820251243353833]], 'type': 'personAIK', 'frame': 761}\n",
      " {'type': 'personAIK', 'location': [[1.2163505304356428, -1.5228268312828908, 1.5829736694524261]], 'pid': 1, 'frame': 762}\n",
      " {'pid': 1, 'location': [[1.1715610114938237, -1.505694331781955, 1.583922214569469]], 'type': 'personAIK', 'frame': 763}\n",
      " ...\n",
      " {'pid': 1, 'location': [[1.2028711732763226, -1.5057050373485796, 1.6228479974876309]], 'type': 'personAIK', 'frame': 129587}\n",
      " {'type': 'personAIK', 'location': [[1.2435981185382108, -1.5133768720610496, 1.6246583495517677]], 'pid': 1, 'frame': 129588}\n",
      " {'pid': 1, 'location': [[1.2843250638000991, -1.5210487067735197, 1.6264687016159047]], 'type': 'personAIK', 'frame': 129589}]\n"
     ]
    }
   ],
   "source": [
    "print(bam.get_annotations_for_person(1))"
   ]
  },
  {
   "cell_type": "markdown",
   "metadata": {},
   "source": [
    "Get all annotations in the dataset for pose 1"
   ]
  },
  {
   "cell_type": "code",
   "execution_count": 21,
   "metadata": {},
   "outputs": [
    {
     "name": "stdout",
     "output_type": "stream",
     "text": [
      "[{'pid': 1, 'location': [[1.4968834328970184, -1.4708218051545996, 1.5858216011030442], [1.5638536130562557, -1.4881416454058385, 1.5424284811169493], [1.5950703575857978, -1.2941856878170792, 1.4598698136060195], [1.5589635044878662, -1.2435400266579688, 1.2105428415591717], [1.2252425949840273, -1.3018733218345526, 1.1776993456003066], [1.5814525484025566, -1.6614017329196542, 1.475244903204408], [1.5782138968546677, -1.701989848054949, 1.1479641871573456], [1.5843037586404851, -1.7118403510716096, 0.9334981722628052], [1.6246180704675528, -1.345460793739247, 0.8854938911562503], [1.7620965591563937, -1.4249785378580795, 0.4746984697843863], [1.8693629201815007, -1.4600574152993524, 0.1562834711967389], [1.5214779665213503, -1.6411938667242527, 0.9040521372299577], [1.3976602438504526, -1.5909463708374527, 0.5123909964595935], [1.28238119566849, -1.563600748042733, 0.12028316981061023], [1.467881730371763, -1.4339028166141758, 1.6083895521509126], [1.463890161277723, -1.4893772602256015, 1.6075097898083943], [1.533355374618796, -1.410508043170566, 1.6283972507829414], [1.5116787747690985, -1.5424256489030617, 1.619783432441491], [], [], [], [], [], []], 'type': 'poseAIK', 'frame': 759}\n",
      " {'type': 'poseAIK', 'location': [[1.4387494686355118, -1.4694993885147165, 1.5894401289365607], [1.517792134013452, -1.487392348347486, 1.5469043474930886], [1.5454410259751254, -1.2957041437030035, 1.4640249331187944], [1.50850790449473, -1.2458504092727452, 1.2080535592901462], [1.2157875900054589, -1.2936353522025645, 1.1495962505252795], [1.5283775359190521, -1.6624696660698302, 1.4802990781639296], [1.5137878519978305, -1.7059320875539203, 1.151918526139689], [1.5001987750456331, -1.712699986535245, 0.9443465772611626], [1.5642976741835362, -1.347889978426963, 0.8928098649017164], [1.6685353387621005, -1.4200658415988463, 0.4837032071053399], [1.777550428880173, -1.4580529094342856, 0.15404917802617316], [1.475505588498835, -1.6372575954091875, 0.9061013383291572], [1.3658375153261773, -1.5919815793190955, 0.5098256506923925], [1.2786718762017442, -1.5652778534348752, 0.1203442957208422], [1.4167073325514208, -1.4256857215489989, 1.608939809274589], [1.4109051455245138, -1.480439028339923, 1.6076163762626856], [1.482897481995517, -1.4032913256412691, 1.6278495894979637], [1.458906171075307, -1.5367444938818386, 1.6206547759144874], [None, None, None], [None, None, None], [None, None, None], [None, None, None], [None, None, None], [None, None, None]], 'pid': 1, 'frame': 760}\n",
      " {'pid': 1, 'location': [[1.3806155043740054, -1.4681769718748334, 1.5930586567700775], [1.4717306549706481, -1.4866430512891335, 1.551380213869228], [1.4958116943644528, -1.297222599588928, 1.4681800526315694], [1.4580523045015938, -1.2481607918875215, 1.205564277021121], [1.2063325850268902, -1.2853973825705765, 1.1214931554502523], [1.4753025234355475, -1.663537599220006, 1.4853532531234512], [1.4493618071409933, -1.709874327052892, 1.1558728651220325], [1.416093791450781, -1.7135596219988805, 0.9551949822595199], [1.5039772778995195, -1.3503191631146785, 0.9001258386471825], [1.5749741183678072, -1.415153145339613, 0.49270794442629356], [1.6857379375788448, -1.4560484035692187, 0.1518148848556074], [1.42953321047632, -1.6333213240941222, 0.9081505394283567], [1.334014786801902, -1.5930167878007382, 0.5072603049251915], [1.274962556734998, -1.5669549588270177, 0.12040542163107416], [1.3655329347310783, -1.4174686264838219, 1.6094900663982656], [1.3579201297713048, -1.4715007964542441, 1.6077229627169767], [1.432439589372238, -1.3960746081119721, 1.6273019282129857], [1.4061335673815156, -1.5310633388606154, 1.621526119387484], [], [], [], [], [], []], 'type': 'poseAIK', 'frame': 761}\n",
      " ...\n",
      " {'pid': 1, 'location': [[], [1.0520991086959839, -1.4904111623764038, 1.476131558418274], [1.036655560391055, -1.6181657602536312, 1.4730393968795101], [0.9925381806273854, -1.7051290751511055, 1.1813082674386133], [0.9932320888959262, -1.783876863677146, 0.953115415824142], [1.0577029091509182, -1.297329416459936, 1.450270569946882], [1.1278637995865617, -1.2289354130870485, 1.160936138436395], [1.0318558650551242, -1.3485553037500009, 1.0304931722227917], [1.0182157979190474, -1.5902078219985238, 0.936094890265208], [1.196653757442874, -1.5921538396716644, 0.5294826869477409], [1.0112624426015426, -1.5646307917627729, 0.19668476748581126], [1.0379092646480303, -1.379843697186727, 0.9207876815967992], [1.1143176903000378, -1.4461311036600613, 0.5126353236776062], [0.986919224922149, -1.5454766890980682, 0.15056388561406286], [1.3185615539550781, -1.5067801475524902, 1.6886042356491089], [], [1.152976155281067, -1.5444303750991821, 1.6827415227890015], [1.1365481615066528, -1.4122925996780396, 1.6612728834152222], [1.256306529045105, -1.4782224893569946, 0.08789810538291931], [1.2211369276046753, -1.45730459690094, 0.09458287805318832], [0.9028360843658447, -1.5782403945922852, 0.12676198780536652], [1.4072093963623047, -1.6011314392089844, 0.0754791870713234], [1.3105672597885132, -1.671110987663269, 0.10005730390548706], [1.1368721723556519, -1.6409525871276855, 0.14421677589416504]], 'type': 'poseAIK', 'frame': 129587}\n",
      " {'type': 'poseAIK', 'location': [[None, None, None], [1.1471666097640991, -1.4734615683555603, 1.474272072315216], [1.1484927208568525, -1.6484505067818325, 1.4732675649580023], [1.1155371319752811, -1.722665918834518, 1.1797269119447438], [1.1152290489345156, -1.7723489820302043, 0.9478760784268614], [1.158268988681531, -1.3141349786444507, 1.457934881200847], [1.236953029215686, -1.2585271212434135, 1.1751741699356], [1.1363977150494562, -1.377597370920018, 1.0694426869449623], [1.133625380719782, -1.610439131658375, 0.9357385041537544], [1.3112840675769488, -1.6348742208449638, 0.5289634629718221], [1.2998034859945613, -1.61778560472054, 0.1482463726845281], [1.1204249607797245, -1.4083762152960335, 0.9258050627640096], [1.1682337073336944, -1.4487808356295369, 0.5140864408614506], [1.0259685694609226, -1.5382417480454367, 0.14987665412063605], [1.18129563331604, -1.596797227859497, 1.6947179436683655], [None, None, None], [1.214996337890625, -1.5460976362228394, 1.6864885687828064], [1.1651220321655273, -1.415995478630066, 1.6709584593772888], [1.3822593092918396, -1.4371286630630493, 0.04609106737188995], [1.3587771654129028, -1.3934012055397034, 0.04694230481982231], [0.8962630033493042, -1.5936172604560852, 0.1271766871213913], [1.5077860355377197, -1.6069555282592773, 0.06790898367762566], [1.4948233366012573, -1.6646572351455688, 0.06819573603570461], [1.35355943441391, -1.629148781299591, 0.0904834046959877]], 'pid': 1, 'frame': 129588}\n",
      " {'pid': 1, 'location': [[], [1.2422341108322144, -1.4565119743347168, 1.4724125862121582], [1.2603298813226498, -1.6787352533100335, 1.4734957330364944], [1.238536083323177, -1.7402027625179302, 1.1781455564508745], [1.2372260089731049, -1.7608211003832626, 0.9426367410295808], [1.2588350682121434, -1.3309405408289654, 1.465599192454812], [1.3460422588448107, -1.2881188293997787, 1.1894122014348048], [1.240939565043788, -1.406639438090035, 1.1083922016671326], [1.2490349635205167, -1.6306704413182262, 0.9353821180423008], [1.4259143777110237, -1.6775946020182633, 0.5284442389959031], [1.5883445293875798, -1.670940417678307, 0.09980797788324491], [1.2029406569114187, -1.4369087334053399, 0.93082244393122], [1.222149724367351, -1.4514305675990125, 0.515537558045295], [1.065017913999696, -1.5310068069928051, 0.14918942262720922], [1.044029712677002, -1.686814308166504, 1.700831651687622], [], [1.277016520500183, -1.5477648973464966, 1.6902356147766113], [1.1936959028244019, -1.4196983575820923, 1.6806440353393555], [1.5082120895385742, -1.396034836769104, 0.004284029360860586], [1.4964174032211304, -1.3294978141784668, -0.0006982684135437012], [0.8896899223327637, -1.6089941263198853, 0.12759138643741608], [1.6083626747131348, -1.6127796173095703, 0.06033878028392792], [1.6790794134140015, -1.6582034826278687, 0.036334168165922165], [1.570246696472168, -1.6173449754714966, 0.036750033497810364]], 'type': 'poseAIK', 'frame': 129589}]\n"
     ]
    }
   ],
   "source": [
    "print(bam.get_annotations_for_pose(1))"
   ]
  },
  {
   "cell_type": "markdown",
   "metadata": {},
   "source": [
    "Get all annotations in the dataset for static object 20"
   ]
  },
  {
   "cell_type": "code",
   "execution_count": 22,
   "metadata": {},
   "outputs": [
    {
     "name": "stdout",
     "output_type": "stream",
     "text": [
      "[{'oid': 20, 'location': [[0.9598409870484396, 2.4812725489781413, 2.053094516336073], [0.9706024595141435, 3.0312496406840537, 2.053094516336073], [1.372129809595394, 2.661270772080614, 1.5543655685149877]], 'labels': ['Kitchen_cupboard_01'], 'type': 'boxAIK', 'frame': 1}\n",
      " {'type': 'boxAIK', 'location': [[0.9598409870484396, 2.4812725489781413, 2.053094516336073], [0.9706024595141435, 3.0312496406840537, 2.053094516336073], [1.372129809595394, 2.661270772080614, 1.5543655685149877]], 'oid': 20, 'frame': 2, 'labels': ['Kitchen_cupboard_01']}\n",
      " {'oid': 20, 'location': [[0.9598409870484396, 2.4812725489781413, 2.053094516336073], [0.9706024595141435, 3.0312496406840537, 2.053094516336073], [1.372129809595394, 2.661270772080614, 1.5543655685149877]], 'labels': ['Kitchen_cupboard_01'], 'type': 'boxAIK', 'frame': 3}\n",
      " ...\n",
      " {'type': 'boxAIK', 'location': [[0.9598409870484396, 2.4812725489781413, 2.053094516336073], [0.9706024595141435, 3.0312496406840537, 2.053094516336073], [1.372129809595394, 2.661270772080614, 1.5543655685149877]], 'oid': 20, 'frame': 129720, 'labels': ['Kitchen_cupboard_01']}\n",
      " {'oid': 20, 'location': [[0.9598409870484396, 2.4812725489781413, 2.053094516336073], [0.9706024595141435, 3.0312496406840537, 2.053094516336073], [1.372129809595394, 2.661270772080614, 1.5543655685149877]], 'labels': ['Kitchen_cupboard_01'], 'type': 'boxAIK', 'frame': 129721}\n",
      " {'type': 'boxAIK', 'location': [[0.9598409870484396, 2.4812725489781413, 2.053094516336073], [0.9706024595141435, 3.0312496406840537, 2.053094516336073], [1.372129809595394, 2.661270772080614, 1.5543655685149877]], 'oid': 20, 'frame': 129722, 'labels': ['Kitchen_cupboard_01']}]\n"
     ]
    }
   ],
   "source": [
    "print(bam.get_annotations_for_static_object(20))"
   ]
  },
  {
   "cell_type": "code",
   "execution_count": null,
   "metadata": {},
   "outputs": [],
   "source": []
  }
 ],
 "metadata": {
  "kernelspec": {
   "display_name": "Python 3",
   "language": "python",
   "name": "python3"
  },
  "language_info": {
   "codemirror_mode": {
    "name": "ipython",
    "version": 3
   },
   "file_extension": ".py",
   "mimetype": "text/x-python",
   "name": "python",
   "nbconvert_exporter": "python",
   "pygments_lexer": "ipython3",
   "version": "3.6.9"
  }
 },
 "nbformat": 4,
 "nbformat_minor": 1
}
