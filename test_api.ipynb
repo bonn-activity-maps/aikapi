{
 "cells": [
  {
   "cell_type": "code",
   "execution_count": 2,
   "metadata": {
    "collapsed": true
   },
   "outputs": [],
   "source": [
    "from PythonAPI.aik import AIK"
   ]
  },
  {
   "cell_type": "markdown",
   "metadata": {},
   "source": [
    "Define the absolute path to the dataset and the dataset name.\n",
    "\n",
    "Create AIK object to load the dataset:\n",
    "\n",
    "- The videos will be automatically unrolled if it is the first time you create the dataset (this may take a while).\n",
    "- All the annotations will be also loaded into memory and processed.\n",
    "- The videos are unrolled in png images by default, but the format can be changed to jpeg."
   ]
  },
  {
   "cell_type": "code",
   "execution_count": 2,
   "metadata": {
    "pycharm": {
     "name": "#%%\n"
    }
   },
   "outputs": [
    {
     "name": "stdout",
     "output_type": "stream",
     "text": [
      "Reading dataset information...\n",
      "Loading calibration parameters...\n",
      "     camera00.json...\n",
      "     camera01.json...\n",
      "     camera02.json...\n",
      "     camera03.json...\n",
      "     camera04.json...\n",
      "     camera05.json...\n",
      "     camera06.json...\n",
      "     camera07.json...\n",
      "     camera08.json...\n",
      "     camera09.json...\n",
      "     camera10.json...\n",
      "     camera11.json...\n",
      "Loading annotations...\n",
      "Processing persons...\n",
      "Processing actions...\n",
      "Finish loading dataset\n"
     ]
    }
   ],
   "source": [
    "dataset_dir = '/home/beatriz/Documentos/Work'\n",
    "dataset_name = '181129'\n",
    "\n",
    "aik = AIK(dataset_dir, dataset_name, image_format='jpeg')"
   ]
  },
  {
   "cell_type": "markdown",
   "metadata": {},
   "source": [
    "Get camera calibration parameters for camera 3 and frame 500"
   ]
  },
  {
   "cell_type": "code",
   "execution_count": 3,
   "metadata": {
    "pycharm": {
     "name": "#%%\n"
    },
    "scrolled": true
   },
   "outputs": [
    {
     "name": "stdout",
     "output_type": "stream",
     "text": [
      "{'w': 1280, 'h': 720, 'tvec': [0.8122448862992145, 0.375330297923395, 5.691727807772934], 'rvec': [0.3679424923847816, -2.3139535956428774, 1.7751790130451381], 'distCoef': [0.0, 0.0, 0.0, 0.0, 0.0], 'K': [[1059.1110829666356, 0.0, 638.3440062575208], [0.0, 1058.1497403584108, 394.7500309419925], [0.0, 0.0, 1.0]]}\n"
     ]
    }
   ],
   "source": [
    "print(aik.get_calibration_params(3, 25894))"
   ]
  },
  {
   "cell_type": "markdown",
   "metadata": {},
   "source": [
    "Get an array with all persons annotated in frame 500"
   ]
  },
  {
   "cell_type": "code",
   "execution_count": 4,
   "metadata": {
    "pycharm": {
     "name": "#%%\n"
    }
   },
   "outputs": [
    {
     "name": "stdout",
     "output_type": "stream",
     "text": [
      "[{'pid': 1, 'location': [[0.498339264765202, 3.2171029078369897, 1.5828869056621102]]}, {'pid': 1, 'location': [[0.5035534501075745, 3.130488157272339, 1.5877115726470947], [0.33670544624328613, 3.3233115673065186, 1.4915584325790405], [0.2601630934244206, 3.1344935528657083, 1.4807234524039452], [0.23090367223047764, 3.0881537576408444, 1.1747466193888727], [0.4624710651429028, 3.029305688118087, 1.0831168845064802], [0.3856729454498077, 3.455096568910931, 1.4978647658373092], [0.3619406195839864, 3.5508452311951317, 1.2187215628731682], [0.4886760044595372, 3.4570746179859917, 1.0985927148803882], [0.24285354310399074, 3.209109735748986, 0.937708336249335], [0.25412233062007106, 3.1515303312903313, 0.5549463394038321], [0.20223532605420524, 3.136944223773778, 0.1367580121232862], [0.34022819265764337, 3.3945968087010883, 0.9251715573337408], [0.331675231308763, 3.423327599530494, 0.525658220126438], [0.26221012966169743, 3.468437276697019, 0.11578491871101904], [0.47325873374938965, 3.134596586227417, 1.6200170516967773], [0.5254986882209778, 3.126495838165283, 1.611875295639038], [0.3865627348423004, 3.2179574966430664, 1.6643463373184204], [0.45403292775154114, 3.440657615661621, 1.6612342596054077], [0.4229675829410553, 3.4583511352539062, 0.09613849222660065], [], [0.22902971506118774, 3.5008974075317383, 0.052571285516023636], [0.37549903988838196, 2.927037000656128, 0.10360845178365707], [0.330640584230423, 2.94777774810791, 0.08390694111585617], [0.18403440713882446, 3.147005319595337, 0.10133621841669083]]}]\n"
     ]
    }
   ],
   "source": [
    "print(aik.get_persons_in_frame(500))"
   ]
  },
  {
   "cell_type": "markdown",
   "metadata": {},
   "source": [
    "Get the pose for person with pid 1 in frame 380"
   ]
  },
  {
   "cell_type": "code",
   "execution_count": 5,
   "metadata": {
    "pycharm": {
     "name": "#%%\n"
    }
   },
   "outputs": [
    {
     "name": "stdout",
     "output_type": "stream",
     "text": [
      "[[1.4968834328970184, -1.4708218051545996, 1.5858216011030442], [1.5638536130562557, -1.4881416454058385, 1.5424284811169493], [1.5950703575857978, -1.2941856878170792, 1.4598698136060195], [1.5589635044878662, -1.2435400266579688, 1.2105428415591717], [1.2252425949840273, -1.3018733218345526, 1.1776993456003066], [1.5814525484025566, -1.6614017329196542, 1.475244903204408], [1.5782138968546677, -1.701989848054949, 1.1479641871573456], [1.5843037586404851, -1.7118403510716096, 0.9334981722628052], [1.6246180704675528, -1.345460793739247, 0.8854938911562503], [1.7620965591563937, -1.4249785378580795, 0.4746984697843863], [1.8693629201815007, -1.4600574152993524, 0.1562834711967389], [1.5214779665213503, -1.6411938667242527, 0.9040521372299577], [1.3976602438504526, -1.5909463708374527, 0.5123909964595935], [1.28238119566849, -1.563600748042733, 0.12028316981061023], [1.467881730371763, -1.4339028166141758, 1.6083895521509126], [1.463890161277723, -1.4893772602256015, 1.6075097898083943], [1.533355374618796, -1.410508043170566, 1.6283972507829414], [1.5116787747690985, -1.5424256489030617, 1.619783432441491], [], [], [], [], [], []]\n"
     ]
    }
   ],
   "source": [
    "print(aik.get_person_in_frame(380, 1))"
   ]
  },
  {
   "cell_type": "markdown",
   "metadata": {},
   "source": [
    "Get an array with all activities for person with pid 2"
   ]
  },
  {
   "cell_type": "code",
   "execution_count": 6,
   "metadata": {
    "pycharm": {
     "name": "#%%\n"
    }
   },
   "outputs": [
    {
     "name": "stdout",
     "output_type": "stream",
     "text": [
      "[{'label': 'carry plate', 'start_frame': 1136, 'end_frame': 1184}, {'label': 'carry cake', 'start_frame': 1324, 'end_frame': 1370}, {'label': 'carry cup', 'start_frame': 505, 'end_frame': 594}, {'label': 'open fridge', 'start_frame': 599, 'end_frame': 615}, {'label': 'take cake out of fridge', 'start_frame': 623, 'end_frame': 673}, {'label': 'carry cake', 'start_frame': 636, 'end_frame': 694}, {'label': 'close fridge', 'start_frame': 667, 'end_frame': 682}, {'label': 'place cake on table', 'start_frame': 694, 'end_frame': 700}, {'label': 'open drawer', 'start_frame': 766, 'end_frame': 786}, {'label': 'close drawer', 'start_frame': 804, 'end_frame': 825}, {'label': 'cut cake in pieces', 'start_frame': 862, 'end_frame': 1053}, {'label': 'open cupboard', 'start_frame': 1067, 'end_frame': 1080}, {'label': 'close cupboard', 'start_frame': 1080, 'end_frame': 1100}, {'label': 'open cupboard', 'start_frame': 1112, 'end_frame': 1127}, {'label': 'close cupboard', 'start_frame': 1138, 'end_frame': 1149}, {'label': 'cut cake in pieces', 'start_frame': 1184, 'end_frame': 1300}, {'label': 'place cake on plate', 'start_frame': 1300, 'end_frame': 1373}, {'label': 'washing hands', 'start_frame': 1423, 'end_frame': 1492}, {'label': 'carry plate', 'start_frame': 1509, 'end_frame': 1633}, {'label': 'open drawer', 'start_frame': 1521, 'end_frame': 1535}, {'label': 'close drawer', 'start_frame': 1546, 'end_frame': 1569}, {'label': 'take cup from coffee machine', 'start_frame': 1595, 'end_frame': 1603}, {'label': 'carry cup', 'start_frame': 1600, 'end_frame': 1617}, {'label': 'carry cup', 'start_frame': 1651, 'end_frame': 1671}, {'label': 'place cup onto coffee machine', 'start_frame': 1663, 'end_frame': 1672}, {'label': 'make coffee', 'start_frame': 1668, 'end_frame': 2366}, {'label': 'press coffee button', 'start_frame': 1677, 'end_frame': 1686}, {'label': 'mark coffee', 'start_frame': 1713, 'end_frame': 1772}, {'label': 'carry plate', 'start_frame': 1960, 'end_frame': 1999}, {'label': 'take cup from coffee machine', 'start_frame': 2357, 'end_frame': 2380}, {'label': 'carry cup', 'start_frame': 2360, 'end_frame': 2394}, {'label': 'open fridge', 'start_frame': 2404, 'end_frame': 2421}, {'label': 'take milk', 'start_frame': 2430, 'end_frame': 2587}, {'label': 'close fridge', 'start_frame': 2431, 'end_frame': 2448}, {'label': 'pour milk', 'start_frame': 2485, 'end_frame': 2522}, {'label': 'open fridge', 'start_frame': 2557, 'end_frame': 2568}, {'label': 'close fridge', 'start_frame': 2610, 'end_frame': 2626}, {'label': 'clean countertop', 'start_frame': 2625, 'end_frame': 2645}, {'label': 'carry cup', 'start_frame': 2626, 'end_frame': 2668}, {'label': 'carry plate', 'start_frame': 2691, 'end_frame': 2800}, {'label': 'carry cup', 'start_frame': 2738, 'end_frame': 2800}, {'label': 'walking', 'start_frame': 501, 'end_frame': 574}, {'label': 'standing', 'start_frame': 575, 'end_frame': 591}, {'label': 'leaning down', 'start_frame': 592, 'end_frame': 658}, {'label': 'standing up', 'start_frame': 659, 'end_frame': 676}, {'label': 'standing', 'start_frame': 677, 'end_frame': 1100}, {'label': 'steps', 'start_frame': 753, 'end_frame': 767}, {'label': 'steps', 'start_frame': 1065, 'end_frame': 1077}, {'label': 'steps', 'start_frame': 1100, 'end_frame': 1119}, {'label': 'standing', 'start_frame': 1119, 'end_frame': 1158}, {'label': 'steps', 'start_frame': 1153, 'end_frame': 1177}, {'label': 'walking', 'start_frame': 1159, 'end_frame': 1175}, {'label': 'standing', 'start_frame': 1176, 'end_frame': 1400}, {'label': 'walking', 'start_frame': 1400, 'end_frame': 1424}, {'label': 'steps', 'start_frame': 1400, 'end_frame': 1426}, {'label': 'standing', 'start_frame': 1425, 'end_frame': 1490}, {'label': 'steps', 'start_frame': 1489, 'end_frame': 1517}, {'label': 'walking', 'start_frame': 1491, 'end_frame': 1516}, {'label': 'standing', 'start_frame': 1517, 'end_frame': 1568}, {'label': 'steps', 'start_frame': 1566, 'end_frame': 1593}, {'label': 'walking', 'start_frame': 1569, 'end_frame': 1591}, {'label': 'standing', 'start_frame': 1592, 'end_frame': 1700}, {'label': 'steps', 'start_frame': 1655, 'end_frame': 1664}, {'label': 'steps', 'start_frame': 1696, 'end_frame': 1713}, {'label': 'standing', 'start_frame': 1718, 'end_frame': 1772}, {'label': 'steps', 'start_frame': 1724, 'end_frame': 1736}, {'label': 'steps', 'start_frame': 1781, 'end_frame': 1789}, {'label': 'standing', 'start_frame': 1788, 'end_frame': 1821}, {'label': 'steps', 'start_frame': 1822, 'end_frame': 1838}, {'label': 'standing', 'start_frame': 1839, 'end_frame': 1972}, {'label': 'walking', 'start_frame': 1973, 'end_frame': 2000}, {'label': 'standing', 'start_frame': 2000, 'end_frame': 2011}, {'label': 'walking', 'start_frame': 2012, 'end_frame': 2037}, {'label': 'standing', 'start_frame': 2038, 'end_frame': 2381}, {'label': 'steps', 'start_frame': 2382, 'end_frame': 2394}, {'label': 'standing', 'start_frame': 2395, 'end_frame': 2400}, {'label': 'steps', 'start_frame': 2400, 'end_frame': 2412}, {'label': 'standing', 'start_frame': 2413, 'end_frame': 2442}, {'label': 'steps', 'start_frame': 2443, 'end_frame': 2456}, {'label': 'standing', 'start_frame': 2456, 'end_frame': 2558}, {'label': 'leaning down', 'start_frame': 2559, 'end_frame': 2609}, {'label': 'standing', 'start_frame': 2610, 'end_frame': 2645}, {'label': 'walking', 'start_frame': 2646, 'end_frame': 2693}, {'label': 'standing', 'start_frame': 2694, 'end_frame': 2712}, {'label': 'steps', 'start_frame': 2713, 'end_frame': 2731}, {'label': 'standing', 'start_frame': 2732, 'end_frame': 2747}, {'label': 'walking', 'start_frame': 2747, 'end_frame': 2800}, {'label': 'walking', 'start_frame': 14045, 'end_frame': 14138}, {'label': 'walking', 'start_frame': 15824, 'end_frame': 15897}, {'label': 'walking', 'start_frame': 17357, 'end_frame': 17440}]\n"
     ]
    }
   ],
   "source": [
    "print(aik.get_activities_for_person(2))"
   ]
  },
  {
   "cell_type": "markdown",
   "metadata": {},
   "source": [
    "Get images from 12 cameras for frame 1"
   ]
  },
  {
   "cell_type": "code",
   "execution_count": 7,
   "metadata": {
    "pycharm": {
     "name": "#%%\n"
    }
   },
   "outputs": [
    {
     "name": "stdout",
     "output_type": "stream",
     "text": [
      "Searching for images of frame  1 ...\n",
      "Frame name: frame000000001.png\n",
      "Images of frame  1  retrieved.\n",
      "[array([[[232, 220, 200],\n",
      "        [232, 220, 200],\n",
      "        [232, 220, 200],\n",
      "        ...,\n",
      "        [111, 111, 106],\n",
      "        [111, 111, 106],\n",
      "        [111, 111, 106]],\n",
      "\n",
      "       [[232, 220, 200],\n",
      "        [232, 220, 200],\n",
      "        [232, 220, 200],\n",
      "        ...,\n",
      "        [111, 111, 106],\n",
      "        [111, 111, 106],\n",
      "        [111, 111, 106]],\n",
      "\n",
      "       [[232, 220, 200],\n",
      "        [232, 220, 200],\n",
      "        [232, 220, 200],\n",
      "        ...,\n",
      "        [111, 111, 106],\n",
      "        [111, 111, 106],\n",
      "        [111, 111, 106]],\n",
      "\n",
      "       ...,\n",
      "\n",
      "       [[162, 157, 152],\n",
      "        [161, 156, 151],\n",
      "        [157, 152, 147],\n",
      "        ...,\n",
      "        [191, 197, 205],\n",
      "        [191, 197, 205],\n",
      "        [191, 197, 205]],\n",
      "\n",
      "       [[162, 157, 152],\n",
      "        [161, 156, 151],\n",
      "        [157, 152, 147],\n",
      "        ...,\n",
      "        [191, 197, 205],\n",
      "        [191, 197, 205],\n",
      "        [191, 197, 205]],\n",
      "\n",
      "       [[161, 156, 151],\n",
      "        [160, 155, 150],\n",
      "        [156, 151, 146],\n",
      "        ...,\n",
      "        [191, 197, 205],\n",
      "        [191, 197, 205],\n",
      "        [191, 197, 205]]], dtype=uint8)]\n"
     ]
    }
   ],
   "source": [
    "print(aik.get_images_in_frame(1))"
   ]
  },
  {
   "cell_type": "markdown",
   "metadata": {
    "pycharm": {
     "name": "#%% md\n"
    }
   },
   "source": []
  },
  {
   "cell_type": "code",
   "execution_count": 7,
   "metadata": {
    "pycharm": {
     "name": "#%%\n"
    }
   },
   "outputs": [],
   "source": []
  }
 ],
 "metadata": {
  "kernelspec": {
   "display_name": "Python 3",
   "language": "python",
   "name": "python3"
  },
  "language_info": {
   "codemirror_mode": {
    "name": "ipython",
    "version": 3
   },
   "file_extension": ".py",
   "mimetype": "text/x-python",
   "name": "python",
   "nbconvert_exporter": "python",
   "pygments_lexer": "ipython3",
   "version": "3.6.9"
  }
 },
 "nbformat": 4,
 "nbformat_minor": 1
}