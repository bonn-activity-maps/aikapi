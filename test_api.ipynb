{
 "cells": [
  {
   "cell_type": "code",
   "execution_count": 1,
   "metadata": {},
   "outputs": [],
   "source": [
    "import numpy as np\n",
    "from PythonAPI.aik import AIK\n",
    "from PythonAPI.utils.camera import Camera"
   ]
  },
  {
   "cell_type": "markdown",
   "metadata": {},
   "source": [
    "Define the absolute path to the dataset and the dataset name.\n",
    "\n",
    "Create AIK object to load the dataset:\n",
    "\n",
    "- All the annotations will be loaded into memory and processed.\n",
    "- The videos are unrolled in png images by default, but the format can be changed to jpeg."
   ]
  },
  {
   "cell_type": "code",
   "execution_count": 2,
   "metadata": {
    "pycharm": {
     "name": "#%%\n"
    }
   },
   "outputs": [
    {
     "name": "stdout",
     "output_type": "stream",
     "text": [
      "Reading dataset information...\n",
      "Loading calibration parameters...\n",
      "     camera00.json...\n",
      "     camera01.json...\n",
      "     camera02.json...\n",
      "     camera03.json...\n",
      "     camera04.json...\n",
      "     camera05.json...\n",
      "     camera06.json...\n",
      "     camera07.json...\n",
      "     camera08.json...\n",
      "     camera09.json...\n",
      "     camera10.json...\n",
      "     camera11.json...\n",
      "Loading annotations...\n",
      "Processing persons...\n",
      "Processing actions...\n",
      "Finish loading dataset\n"
     ]
    }
   ],
   "source": [
    "# dataset_dir = '/home/beatriz/Documentos/Work' # Your path\n",
    "dataset_dir = '/home/almartmen/Github/aikapi' \n",
    "dataset_name = '181129'\n",
    "\n",
    "aik = AIK(dataset_dir, dataset_name, image_format='png')"
   ]
  },
  {
   "cell_type": "markdown",
   "metadata": {},
   "source": [
    "Get Camera object for camera 3 and frame 1 (Camera usage example can be found below)"
   ]
  },
  {
   "cell_type": "code",
   "execution_count": 3,
   "metadata": {
    "pycharm": {
     "name": "#%%\n"
    },
    "scrolled": true
   },
   "outputs": [
    {
     "name": "stdout",
     "output_type": "stream",
     "text": [
      "{\"K\": [[1059.111083984375, 0.0, 638.343994140625], [0.0, 1058.1497802734375, 394.7500305175781], [0.0, 0.0, 1.0]], \"P\": [[-745.3416037397837, -970.7086534756199, -170.29725224389983, 4867.531825297799], [48.999378047246864, -99.75383605078969, -1122.3262807831234, 2640.7506968589573], [0.36730334162712097, -0.894257664680481, -0.25571754574775696, 5.646644722770345]], \"rvec\": [0.4403006434440613, -2.2728705406188965, 1.7474119663238525], \"tvec\": [1.196131706237793, 0.39258167147636414, 5.646644592285156], \"distCoef\": [0.0, 0.0, 0.0, 0.0, 0.0], \"w\": 1280, \"h\": 720}\n"
     ]
    }
   ],
   "source": [
    "camera = aik.get_camera(3,1)\n",
    "print(camera.to_json())"
   ]
  },
  {
   "cell_type": "markdown",
   "metadata": {},
   "source": [
    "Get an array with all persons annotated in frame 1000"
   ]
  },
  {
   "cell_type": "code",
   "execution_count": 4,
   "metadata": {
    "pycharm": {
     "name": "#%%\n"
    }
   },
   "outputs": [
    {
     "name": "stdout",
     "output_type": "stream",
     "text": [
      "{'pid': 1, 'location': [[0.498339264765202, 3.2171029078369897, 1.5828869056621102]]}\n",
      "{'pid': 1, 'location': [[0.4467057519225968, 3.190209666835337, 1.6002512333266694]]}\n"
     ]
    },
    {
     "ename": "KeyError",
     "evalue": "'type'",
     "output_type": "error",
     "traceback": [
      "\u001b[0;31m---------------------------------------------------------------------------\u001b[0m",
      "\u001b[0;31mKeyError\u001b[0m                                  Traceback (most recent call last)",
      "\u001b[0;32m<ipython-input-4-9d629eb5bb3d>\u001b[0m in \u001b[0;36m<module>\u001b[0;34m\u001b[0m\n\u001b[0;32m----> 1\u001b[0;31m \u001b[0mprint\u001b[0m\u001b[0;34m(\u001b[0m\u001b[0maik\u001b[0m\u001b[0;34m.\u001b[0m\u001b[0mget_persons_in_frame\u001b[0m\u001b[0;34m(\u001b[0m\u001b[0;36m1000\u001b[0m\u001b[0;34m)\u001b[0m\u001b[0;34m)\u001b[0m\u001b[0;34m\u001b[0m\u001b[0;34m\u001b[0m\u001b[0m\n\u001b[0m",
      "\u001b[0;32m~/Github/aikapi/PythonAPI/aik.py\u001b[0m in \u001b[0;36mget_persons_in_frame\u001b[0;34m(self, frame)\u001b[0m\n\u001b[1;32m    328\u001b[0m         \u001b[0;34m:\u001b[0m\u001b[0mreturns\u001b[0m\u001b[0;34m:\u001b[0m \u001b[0mPersons\u001b[0m \u001b[0mannotated\u001b[0m \u001b[0;32min\u001b[0m \u001b[0mthe\u001b[0m \u001b[0mgiven\u001b[0m \u001b[0mframe\u001b[0m \u001b[0;32min\u001b[0m \u001b[0mjson\u001b[0m \u001b[0mformat\u001b[0m\u001b[0;34m\u001b[0m\u001b[0;34m\u001b[0m\u001b[0m\n\u001b[1;32m    329\u001b[0m         \"\"\"\n\u001b[0;32m--> 330\u001b[0;31m         \u001b[0;32mreturn\u001b[0m \u001b[0mself\u001b[0m\u001b[0;34m.\u001b[0m\u001b[0m_get_persons_or_poses_in_frame\u001b[0m\u001b[0;34m(\u001b[0m\u001b[0mframe\u001b[0m\u001b[0;34m,\u001b[0m \u001b[0;34m'personAIK'\u001b[0m\u001b[0;34m)\u001b[0m\u001b[0;34m\u001b[0m\u001b[0;34m\u001b[0m\u001b[0m\n\u001b[0m\u001b[1;32m    331\u001b[0m \u001b[0;34m\u001b[0m\u001b[0m\n\u001b[1;32m    332\u001b[0m     \u001b[0;32mdef\u001b[0m \u001b[0m_get_persons_or_poses_in_frame\u001b[0m\u001b[0;34m(\u001b[0m\u001b[0mself\u001b[0m\u001b[0;34m,\u001b[0m \u001b[0mframe\u001b[0m\u001b[0;34m:\u001b[0m \u001b[0mint\u001b[0m\u001b[0;34m,\u001b[0m \u001b[0mobj_type\u001b[0m\u001b[0;34m:\u001b[0m \u001b[0mstr\u001b[0m\u001b[0;34m)\u001b[0m \u001b[0;34m->\u001b[0m \u001b[0mnp\u001b[0m\u001b[0;34m.\u001b[0m\u001b[0mndarray\u001b[0m\u001b[0;34m:\u001b[0m\u001b[0;34m\u001b[0m\u001b[0;34m\u001b[0m\u001b[0m\n",
      "\u001b[0;32m~/Github/aikapi/PythonAPI/aik.py\u001b[0m in \u001b[0;36m_get_persons_or_poses_in_frame\u001b[0;34m(self, frame, obj_type)\u001b[0m\n\u001b[1;32m    353\u001b[0m                     \u001b[0mprint\u001b[0m\u001b[0;34m(\u001b[0m\u001b[0mp2\u001b[0m\u001b[0;34m)\u001b[0m\u001b[0;34m\u001b[0m\u001b[0;34m\u001b[0m\u001b[0m\n\u001b[1;32m    354\u001b[0m                     \u001b[0;32mif\u001b[0m \u001b[0mp1\u001b[0m\u001b[0;34m[\u001b[0m\u001b[0;34m'pid'\u001b[0m\u001b[0;34m]\u001b[0m \u001b[0;34m==\u001b[0m \u001b[0mp2\u001b[0m\u001b[0;34m[\u001b[0m\u001b[0;34m'pid'\u001b[0m\u001b[0;34m]\u001b[0m \u001b[0;32mand\u001b[0m \u001b[0mlen\u001b[0m\u001b[0;34m(\u001b[0m\u001b[0mp1\u001b[0m\u001b[0;34m[\u001b[0m\u001b[0;34m'location'\u001b[0m\u001b[0;34m]\u001b[0m\u001b[0;34m)\u001b[0m \u001b[0;34m==\u001b[0m \u001b[0mlen\u001b[0m\u001b[0;34m(\u001b[0m\u001b[0mp2\u001b[0m\u001b[0;34m[\u001b[0m\u001b[0;34m'location'\u001b[0m\u001b[0;34m]\u001b[0m\u001b[0;34m)\u001b[0m\u001b[0;31m \u001b[0m\u001b[0;31m\\\u001b[0m\u001b[0;34m\u001b[0m\u001b[0;34m\u001b[0m\u001b[0m\n\u001b[0;32m--> 355\u001b[0;31m                             \u001b[0;32mand\u001b[0m \u001b[0mp1\u001b[0m\u001b[0;34m[\u001b[0m\u001b[0;34m'type'\u001b[0m\u001b[0;34m]\u001b[0m \u001b[0;34m==\u001b[0m \u001b[0mobj_type\u001b[0m \u001b[0;32mand\u001b[0m \u001b[0mp2\u001b[0m\u001b[0;34m[\u001b[0m\u001b[0;34m'type'\u001b[0m\u001b[0;34m]\u001b[0m \u001b[0;34m==\u001b[0m \u001b[0mobj_type\u001b[0m\u001b[0;34m:\u001b[0m\u001b[0;34m\u001b[0m\u001b[0;34m\u001b[0m\u001b[0m\n\u001b[0m\u001b[1;32m    356\u001b[0m                         \u001b[0minterpolated_person\u001b[0m \u001b[0;34m=\u001b[0m \u001b[0mself\u001b[0m\u001b[0;34m.\u001b[0m\u001b[0m_interpolate\u001b[0m\u001b[0;34m(\u001b[0m\u001b[0mp1\u001b[0m\u001b[0;34m[\u001b[0m\u001b[0;34m'location'\u001b[0m\u001b[0;34m]\u001b[0m\u001b[0;34m,\u001b[0m \u001b[0mp2\u001b[0m\u001b[0;34m[\u001b[0m\u001b[0;34m'location'\u001b[0m\u001b[0;34m]\u001b[0m\u001b[0;34m)\u001b[0m\u001b[0;34m\u001b[0m\u001b[0;34m\u001b[0m\u001b[0m\n\u001b[1;32m    357\u001b[0m                         person_json = {\n",
      "\u001b[0;31mKeyError\u001b[0m: 'type'"
     ]
    }
   ],
   "source": [
    "print(aik.get_persons_in_frame(1000))"
   ]
  },
  {
   "cell_type": "markdown",
   "metadata": {},
   "source": [
    "Get an array with all poses annotated in frame 1000"
   ]
  },
  {
   "cell_type": "code",
   "execution_count": 6,
   "metadata": {},
   "outputs": [
    {
     "ename": "KeyError",
     "evalue": "'type'",
     "output_type": "error",
     "traceback": [
      "\u001b[0;31m---------------------------------------------------------------------------\u001b[0m",
      "\u001b[0;31mKeyError\u001b[0m                                  Traceback (most recent call last)",
      "\u001b[0;32m<ipython-input-6-df7cf54abec1>\u001b[0m in \u001b[0;36m<module>\u001b[0;34m\u001b[0m\n\u001b[0;32m----> 1\u001b[0;31m \u001b[0mprint\u001b[0m\u001b[0;34m(\u001b[0m\u001b[0maik\u001b[0m\u001b[0;34m.\u001b[0m\u001b[0mget_poses_in_frame\u001b[0m\u001b[0;34m(\u001b[0m\u001b[0;36m1000\u001b[0m\u001b[0;34m)\u001b[0m\u001b[0;34m)\u001b[0m\u001b[0;34m\u001b[0m\u001b[0;34m\u001b[0m\u001b[0m\n\u001b[0m",
      "\u001b[0;32m~/Github/aikapi/PythonAPI/aik.py\u001b[0m in \u001b[0;36mget_poses_in_frame\u001b[0;34m(self, frame)\u001b[0m\n\u001b[1;32m    319\u001b[0m         \u001b[0;34m:\u001b[0m\u001b[0mreturns\u001b[0m\u001b[0;34m:\u001b[0m \u001b[0mPoses\u001b[0m \u001b[0mannotated\u001b[0m \u001b[0;32min\u001b[0m \u001b[0mthe\u001b[0m \u001b[0mgiven\u001b[0m \u001b[0mframe\u001b[0m \u001b[0;32min\u001b[0m \u001b[0mjson\u001b[0m \u001b[0mformat\u001b[0m\u001b[0;34m\u001b[0m\u001b[0;34m\u001b[0m\u001b[0m\n\u001b[1;32m    320\u001b[0m         \"\"\"\n\u001b[0;32m--> 321\u001b[0;31m         \u001b[0;32mreturn\u001b[0m \u001b[0mself\u001b[0m\u001b[0;34m.\u001b[0m\u001b[0m_get_persons_or_poses_in_frame\u001b[0m\u001b[0;34m(\u001b[0m\u001b[0mframe\u001b[0m\u001b[0;34m,\u001b[0m \u001b[0;34m'poseAIK'\u001b[0m\u001b[0;34m)\u001b[0m\u001b[0;34m\u001b[0m\u001b[0;34m\u001b[0m\u001b[0m\n\u001b[0m\u001b[1;32m    322\u001b[0m \u001b[0;34m\u001b[0m\u001b[0m\n\u001b[1;32m    323\u001b[0m     \u001b[0;32mdef\u001b[0m \u001b[0mget_persons_in_frame\u001b[0m\u001b[0;34m(\u001b[0m\u001b[0mself\u001b[0m\u001b[0;34m,\u001b[0m \u001b[0mframe\u001b[0m\u001b[0;34m:\u001b[0m \u001b[0mint\u001b[0m\u001b[0;34m)\u001b[0m \u001b[0;34m->\u001b[0m \u001b[0mnp\u001b[0m\u001b[0;34m.\u001b[0m\u001b[0mndarray\u001b[0m\u001b[0;34m:\u001b[0m\u001b[0;34m\u001b[0m\u001b[0;34m\u001b[0m\u001b[0m\n",
      "\u001b[0;32m~/Github/aikapi/PythonAPI/aik.py\u001b[0m in \u001b[0;36m_get_persons_or_poses_in_frame\u001b[0;34m(self, frame, obj_type)\u001b[0m\n\u001b[1;32m    351\u001b[0m                 \u001b[0;32mfor\u001b[0m \u001b[0mp2\u001b[0m \u001b[0;32min\u001b[0m \u001b[0mself\u001b[0m\u001b[0;34m.\u001b[0m\u001b[0mpersons\u001b[0m\u001b[0;34m[\u001b[0m\u001b[0mnext_frame\u001b[0m\u001b[0;34m]\u001b[0m\u001b[0;34m:\u001b[0m\u001b[0;34m\u001b[0m\u001b[0;34m\u001b[0m\u001b[0m\n\u001b[1;32m    352\u001b[0m                     \u001b[0;32mif\u001b[0m \u001b[0mp1\u001b[0m\u001b[0;34m[\u001b[0m\u001b[0;34m'pid'\u001b[0m\u001b[0;34m]\u001b[0m \u001b[0;34m==\u001b[0m \u001b[0mp2\u001b[0m\u001b[0;34m[\u001b[0m\u001b[0;34m'pid'\u001b[0m\u001b[0;34m]\u001b[0m \u001b[0;32mand\u001b[0m \u001b[0mlen\u001b[0m\u001b[0;34m(\u001b[0m\u001b[0mp1\u001b[0m\u001b[0;34m[\u001b[0m\u001b[0;34m'location'\u001b[0m\u001b[0;34m]\u001b[0m\u001b[0;34m)\u001b[0m \u001b[0;34m==\u001b[0m \u001b[0mlen\u001b[0m\u001b[0;34m(\u001b[0m\u001b[0mp2\u001b[0m\u001b[0;34m[\u001b[0m\u001b[0;34m'location'\u001b[0m\u001b[0;34m]\u001b[0m\u001b[0;34m)\u001b[0m\u001b[0;31m \u001b[0m\u001b[0;31m\\\u001b[0m\u001b[0;34m\u001b[0m\u001b[0;34m\u001b[0m\u001b[0m\n\u001b[0;32m--> 353\u001b[0;31m                             \u001b[0;32mand\u001b[0m \u001b[0mp1\u001b[0m\u001b[0;34m[\u001b[0m\u001b[0;34m'type'\u001b[0m\u001b[0;34m]\u001b[0m \u001b[0;34m==\u001b[0m \u001b[0mobj_type\u001b[0m \u001b[0;32mand\u001b[0m \u001b[0mp2\u001b[0m\u001b[0;34m[\u001b[0m\u001b[0;34m'type'\u001b[0m\u001b[0;34m]\u001b[0m \u001b[0;34m==\u001b[0m \u001b[0mobj_type\u001b[0m\u001b[0;34m:\u001b[0m\u001b[0;34m\u001b[0m\u001b[0;34m\u001b[0m\u001b[0m\n\u001b[0m\u001b[1;32m    354\u001b[0m                         \u001b[0minterpolated_person\u001b[0m \u001b[0;34m=\u001b[0m \u001b[0mself\u001b[0m\u001b[0;34m.\u001b[0m\u001b[0m_interpolate\u001b[0m\u001b[0;34m(\u001b[0m\u001b[0mp1\u001b[0m\u001b[0;34m[\u001b[0m\u001b[0;34m'location'\u001b[0m\u001b[0;34m]\u001b[0m\u001b[0;34m,\u001b[0m \u001b[0mp2\u001b[0m\u001b[0;34m[\u001b[0m\u001b[0;34m'location'\u001b[0m\u001b[0;34m]\u001b[0m\u001b[0;34m)\u001b[0m\u001b[0;34m\u001b[0m\u001b[0;34m\u001b[0m\u001b[0m\n\u001b[1;32m    355\u001b[0m                         person_json = {\n",
      "\u001b[0;31mKeyError\u001b[0m: 'type'"
     ]
    }
   ],
   "source": [
    "print(aik.get_poses_in_frame(1000))"
   ]
  },
  {
   "cell_type": "markdown",
   "metadata": {},
   "source": [
    "Get the annotated person with pid 1 in frame 999"
   ]
  },
  {
   "cell_type": "code",
   "execution_count": 7,
   "metadata": {
    "pycharm": {
     "name": "#%%\n"
    }
   },
   "outputs": [
    {
     "ename": "KeyError",
     "evalue": "'type'",
     "output_type": "error",
     "traceback": [
      "\u001b[0;31m---------------------------------------------------------------------------\u001b[0m",
      "\u001b[0;31mKeyError\u001b[0m                                  Traceback (most recent call last)",
      "\u001b[0;32m<ipython-input-7-2b4718f170cf>\u001b[0m in \u001b[0;36m<module>\u001b[0;34m\u001b[0m\n\u001b[0;32m----> 1\u001b[0;31m \u001b[0mpoints3d_person\u001b[0m \u001b[0;34m=\u001b[0m \u001b[0maik\u001b[0m\u001b[0;34m.\u001b[0m\u001b[0mget_person_in_frame\u001b[0m\u001b[0;34m(\u001b[0m\u001b[0;36m999\u001b[0m\u001b[0;34m,\u001b[0m \u001b[0;36m1\u001b[0m\u001b[0;34m)\u001b[0m\u001b[0;34m\u001b[0m\u001b[0;34m\u001b[0m\u001b[0m\n\u001b[0m\u001b[1;32m      2\u001b[0m \u001b[0mprint\u001b[0m\u001b[0;34m(\u001b[0m\u001b[0mpoints3d_person\u001b[0m\u001b[0;34m)\u001b[0m\u001b[0;34m\u001b[0m\u001b[0;34m\u001b[0m\u001b[0m\n",
      "\u001b[0;32m~/Github/aikapi/PythonAPI/aik.py\u001b[0m in \u001b[0;36mget_person_in_frame\u001b[0;34m(self, frame, person_id)\u001b[0m\n\u001b[1;32m    370\u001b[0m         \u001b[0;34m:\u001b[0m\u001b[0mreturns\u001b[0m\u001b[0;34m:\u001b[0m \u001b[0mPerson\u001b[0m \u001b[0mannotated\u001b[0m \u001b[0;32min\u001b[0m \u001b[0mthe\u001b[0m \u001b[0mgiven\u001b[0m \u001b[0mframe\u001b[0m \u001b[0;32min\u001b[0m \u001b[0mjson\u001b[0m \u001b[0mformat\u001b[0m \u001b[0;32mif\u001b[0m \u001b[0mexists\u001b[0m\u001b[0;34m,\u001b[0m \u001b[0mempty\u001b[0m \u001b[0marray\u001b[0m \u001b[0motherwise\u001b[0m\u001b[0;34m\u001b[0m\u001b[0;34m\u001b[0m\u001b[0m\n\u001b[1;32m    371\u001b[0m         \"\"\"\n\u001b[0;32m--> 372\u001b[0;31m         \u001b[0;32mreturn\u001b[0m \u001b[0mself\u001b[0m\u001b[0;34m.\u001b[0m\u001b[0m_get_person_or_pose_in_frame\u001b[0m\u001b[0;34m(\u001b[0m\u001b[0mframe\u001b[0m\u001b[0;34m,\u001b[0m \u001b[0mperson_id\u001b[0m\u001b[0;34m,\u001b[0m \u001b[0;34m'personAIK'\u001b[0m\u001b[0;34m)\u001b[0m\u001b[0;34m\u001b[0m\u001b[0;34m\u001b[0m\u001b[0m\n\u001b[0m\u001b[1;32m    373\u001b[0m \u001b[0;34m\u001b[0m\u001b[0m\n\u001b[1;32m    374\u001b[0m     \u001b[0;32mdef\u001b[0m \u001b[0mget_pose_in_frame\u001b[0m\u001b[0;34m(\u001b[0m\u001b[0mself\u001b[0m\u001b[0;34m,\u001b[0m \u001b[0mframe\u001b[0m\u001b[0;34m:\u001b[0m \u001b[0mint\u001b[0m\u001b[0;34m,\u001b[0m \u001b[0mperson_id\u001b[0m\u001b[0;34m:\u001b[0m \u001b[0mint\u001b[0m\u001b[0;34m)\u001b[0m \u001b[0;34m->\u001b[0m \u001b[0mnp\u001b[0m\u001b[0;34m.\u001b[0m\u001b[0mndarray\u001b[0m\u001b[0;34m:\u001b[0m\u001b[0;34m\u001b[0m\u001b[0;34m\u001b[0m\u001b[0m\n",
      "\u001b[0;32m~/Github/aikapi/PythonAPI/aik.py\u001b[0m in \u001b[0;36m_get_person_or_pose_in_frame\u001b[0;34m(self, frame, person_id, obj_type)\u001b[0m\n\u001b[1;32m    395\u001b[0m             \u001b[0mframe_annotation\u001b[0m \u001b[0;34m=\u001b[0m \u001b[0mself\u001b[0m\u001b[0;34m.\u001b[0m\u001b[0mpersons\u001b[0m\u001b[0;34m[\u001b[0m\u001b[0mreal_frame\u001b[0m\u001b[0;34m]\u001b[0m\u001b[0;34m\u001b[0m\u001b[0;34m\u001b[0m\u001b[0m\n\u001b[1;32m    396\u001b[0m             \u001b[0;32mfor\u001b[0m \u001b[0ma\u001b[0m \u001b[0;32min\u001b[0m \u001b[0mframe_annotation\u001b[0m\u001b[0;34m:\u001b[0m\u001b[0;34m\u001b[0m\u001b[0;34m\u001b[0m\u001b[0m\n\u001b[0;32m--> 397\u001b[0;31m                 \u001b[0;32mif\u001b[0m \u001b[0ma\u001b[0m\u001b[0;34m[\u001b[0m\u001b[0;34m'pid'\u001b[0m\u001b[0;34m]\u001b[0m \u001b[0;34m==\u001b[0m \u001b[0mperson_id\u001b[0m \u001b[0;32mand\u001b[0m \u001b[0ma\u001b[0m\u001b[0;34m[\u001b[0m\u001b[0;34m'type'\u001b[0m\u001b[0;34m]\u001b[0m \u001b[0;34m==\u001b[0m \u001b[0mobj_type\u001b[0m\u001b[0;34m:\u001b[0m\u001b[0;34m\u001b[0m\u001b[0;34m\u001b[0m\u001b[0m\n\u001b[0m\u001b[1;32m    398\u001b[0m                     \u001b[0;31m# Substitute empty lists with None\u001b[0m\u001b[0;34m\u001b[0m\u001b[0;34m\u001b[0m\u001b[0;34m\u001b[0m\u001b[0m\n\u001b[1;32m    399\u001b[0m                     \u001b[0mpts3d\u001b[0m \u001b[0;34m=\u001b[0m \u001b[0;34m[\u001b[0m\u001b[0mx\u001b[0m \u001b[0;32mif\u001b[0m \u001b[0mx\u001b[0m \u001b[0;32melse\u001b[0m \u001b[0;34m[\u001b[0m\u001b[0;32mNone\u001b[0m\u001b[0;34m,\u001b[0m \u001b[0;32mNone\u001b[0m\u001b[0;34m,\u001b[0m \u001b[0;32mNone\u001b[0m\u001b[0;34m]\u001b[0m \u001b[0;32mfor\u001b[0m \u001b[0mx\u001b[0m \u001b[0;32min\u001b[0m \u001b[0ma\u001b[0m\u001b[0;34m[\u001b[0m\u001b[0;34m'location'\u001b[0m\u001b[0;34m]\u001b[0m\u001b[0;34m]\u001b[0m\u001b[0;34m\u001b[0m\u001b[0;34m\u001b[0m\u001b[0m\n",
      "\u001b[0;31mKeyError\u001b[0m: 'type'"
     ]
    }
   ],
   "source": [
    "points3d_person = aik.get_person_in_frame(999, 1)\n",
    "print(points3d_person)"
   ]
  },
  {
   "cell_type": "markdown",
   "metadata": {},
   "source": [
    "Get the pose for person with pid 1 in frame 999"
   ]
  },
  {
   "cell_type": "code",
   "execution_count": 8,
   "metadata": {},
   "outputs": [
    {
     "ename": "KeyError",
     "evalue": "'type'",
     "output_type": "error",
     "traceback": [
      "\u001b[0;31m---------------------------------------------------------------------------\u001b[0m",
      "\u001b[0;31mKeyError\u001b[0m                                  Traceback (most recent call last)",
      "\u001b[0;32m<ipython-input-8-4be926d45d60>\u001b[0m in \u001b[0;36m<module>\u001b[0;34m\u001b[0m\n\u001b[0;32m----> 1\u001b[0;31m \u001b[0mpoints3d_pose\u001b[0m \u001b[0;34m=\u001b[0m \u001b[0maik\u001b[0m\u001b[0;34m.\u001b[0m\u001b[0mget_pose_in_frame\u001b[0m\u001b[0;34m(\u001b[0m\u001b[0;36m999\u001b[0m\u001b[0;34m,\u001b[0m \u001b[0;36m1\u001b[0m\u001b[0;34m)\u001b[0m\u001b[0;34m\u001b[0m\u001b[0;34m\u001b[0m\u001b[0m\n\u001b[0m\u001b[1;32m      2\u001b[0m \u001b[0mprint\u001b[0m\u001b[0;34m(\u001b[0m\u001b[0mpoints3d_pose\u001b[0m\u001b[0;34m)\u001b[0m\u001b[0;34m\u001b[0m\u001b[0;34m\u001b[0m\u001b[0m\n",
      "\u001b[0;32m~/Github/aikapi/PythonAPI/aik.py\u001b[0m in \u001b[0;36mget_pose_in_frame\u001b[0;34m(self, frame, person_id)\u001b[0m\n\u001b[1;32m    380\u001b[0m         \u001b[0;34m:\u001b[0m\u001b[0mreturns\u001b[0m\u001b[0;34m:\u001b[0m \u001b[0mPose\u001b[0m \u001b[0;32min\u001b[0m \u001b[0mjson\u001b[0m \u001b[0mformat\u001b[0m \u001b[0;32mif\u001b[0m \u001b[0mexists\u001b[0m\u001b[0;34m,\u001b[0m \u001b[0mempty\u001b[0m \u001b[0marray\u001b[0m \u001b[0motherwise\u001b[0m\u001b[0;34m\u001b[0m\u001b[0;34m\u001b[0m\u001b[0m\n\u001b[1;32m    381\u001b[0m         \"\"\"\n\u001b[0;32m--> 382\u001b[0;31m         \u001b[0;32mreturn\u001b[0m \u001b[0mself\u001b[0m\u001b[0;34m.\u001b[0m\u001b[0m_get_person_or_pose_in_frame\u001b[0m\u001b[0;34m(\u001b[0m\u001b[0mframe\u001b[0m\u001b[0;34m,\u001b[0m \u001b[0mperson_id\u001b[0m\u001b[0;34m,\u001b[0m \u001b[0;34m'poseAIK'\u001b[0m\u001b[0;34m)\u001b[0m\u001b[0;34m\u001b[0m\u001b[0;34m\u001b[0m\u001b[0m\n\u001b[0m\u001b[1;32m    383\u001b[0m \u001b[0;34m\u001b[0m\u001b[0m\n\u001b[1;32m    384\u001b[0m     \u001b[0;32mdef\u001b[0m \u001b[0m_get_person_or_pose_in_frame\u001b[0m\u001b[0;34m(\u001b[0m\u001b[0mself\u001b[0m\u001b[0;34m,\u001b[0m \u001b[0mframe\u001b[0m\u001b[0;34m:\u001b[0m \u001b[0mint\u001b[0m\u001b[0;34m,\u001b[0m \u001b[0mperson_id\u001b[0m\u001b[0;34m:\u001b[0m \u001b[0mint\u001b[0m\u001b[0;34m,\u001b[0m \u001b[0mobj_type\u001b[0m\u001b[0;34m:\u001b[0m \u001b[0mstr\u001b[0m\u001b[0;34m)\u001b[0m \u001b[0;34m->\u001b[0m \u001b[0mnp\u001b[0m\u001b[0;34m.\u001b[0m\u001b[0mndarray\u001b[0m\u001b[0;34m:\u001b[0m\u001b[0;34m\u001b[0m\u001b[0;34m\u001b[0m\u001b[0m\n",
      "\u001b[0;32m~/Github/aikapi/PythonAPI/aik.py\u001b[0m in \u001b[0;36m_get_person_or_pose_in_frame\u001b[0;34m(self, frame, person_id, obj_type)\u001b[0m\n\u001b[1;32m    395\u001b[0m             \u001b[0mframe_annotation\u001b[0m \u001b[0;34m=\u001b[0m \u001b[0mself\u001b[0m\u001b[0;34m.\u001b[0m\u001b[0mpersons\u001b[0m\u001b[0;34m[\u001b[0m\u001b[0mreal_frame\u001b[0m\u001b[0;34m]\u001b[0m\u001b[0;34m\u001b[0m\u001b[0;34m\u001b[0m\u001b[0m\n\u001b[1;32m    396\u001b[0m             \u001b[0;32mfor\u001b[0m \u001b[0ma\u001b[0m \u001b[0;32min\u001b[0m \u001b[0mframe_annotation\u001b[0m\u001b[0;34m:\u001b[0m\u001b[0;34m\u001b[0m\u001b[0;34m\u001b[0m\u001b[0m\n\u001b[0;32m--> 397\u001b[0;31m                 \u001b[0;32mif\u001b[0m \u001b[0ma\u001b[0m\u001b[0;34m[\u001b[0m\u001b[0;34m'pid'\u001b[0m\u001b[0;34m]\u001b[0m \u001b[0;34m==\u001b[0m \u001b[0mperson_id\u001b[0m \u001b[0;32mand\u001b[0m \u001b[0ma\u001b[0m\u001b[0;34m[\u001b[0m\u001b[0;34m'type'\u001b[0m\u001b[0;34m]\u001b[0m \u001b[0;34m==\u001b[0m \u001b[0mobj_type\u001b[0m\u001b[0;34m:\u001b[0m\u001b[0;34m\u001b[0m\u001b[0;34m\u001b[0m\u001b[0m\n\u001b[0m\u001b[1;32m    398\u001b[0m                     \u001b[0;31m# Substitute empty lists with None\u001b[0m\u001b[0;34m\u001b[0m\u001b[0;34m\u001b[0m\u001b[0;34m\u001b[0m\u001b[0m\n\u001b[1;32m    399\u001b[0m                     \u001b[0mpts3d\u001b[0m \u001b[0;34m=\u001b[0m \u001b[0;34m[\u001b[0m\u001b[0mx\u001b[0m \u001b[0;32mif\u001b[0m \u001b[0mx\u001b[0m \u001b[0;32melse\u001b[0m \u001b[0;34m[\u001b[0m\u001b[0;32mNone\u001b[0m\u001b[0;34m,\u001b[0m \u001b[0;32mNone\u001b[0m\u001b[0;34m,\u001b[0m \u001b[0;32mNone\u001b[0m\u001b[0;34m]\u001b[0m \u001b[0;32mfor\u001b[0m \u001b[0mx\u001b[0m \u001b[0;32min\u001b[0m \u001b[0ma\u001b[0m\u001b[0;34m[\u001b[0m\u001b[0;34m'location'\u001b[0m\u001b[0;34m]\u001b[0m\u001b[0;34m]\u001b[0m\u001b[0;34m\u001b[0m\u001b[0;34m\u001b[0m\u001b[0m\n",
      "\u001b[0;31mKeyError\u001b[0m: 'type'"
     ]
    }
   ],
   "source": [
    "points3d_pose = aik.get_pose_in_frame(999, 1)\n",
    "print(points3d_pose)"
   ]
  },
  {
   "cell_type": "markdown",
   "metadata": {},
   "source": [
    "Using Camera object to project 3D points into the 2D image plane"
   ]
  },
  {
   "cell_type": "code",
   "execution_count": 9,
   "metadata": {},
   "outputs": [
    {
     "ename": "NameError",
     "evalue": "name 'points3d_person' is not defined",
     "output_type": "error",
     "traceback": [
      "\u001b[0;31m---------------------------------------------------------------------------\u001b[0m",
      "\u001b[0;31mNameError\u001b[0m                                 Traceback (most recent call last)",
      "\u001b[0;32m<ipython-input-9-db13be12fce1>\u001b[0m in \u001b[0;36m<module>\u001b[0;34m\u001b[0m\n\u001b[0;32m----> 1\u001b[0;31m \u001b[0mpoints2d_person\u001b[0m \u001b[0;34m=\u001b[0m \u001b[0mcamera\u001b[0m\u001b[0;34m.\u001b[0m\u001b[0mproject_points\u001b[0m\u001b[0;34m(\u001b[0m\u001b[0mpoints3d_person\u001b[0m\u001b[0;34m)\u001b[0m\u001b[0;34m\u001b[0m\u001b[0;34m\u001b[0m\u001b[0m\n\u001b[0m\u001b[1;32m      2\u001b[0m \u001b[0mprint\u001b[0m\u001b[0;34m(\u001b[0m\u001b[0mpoints2d_person\u001b[0m\u001b[0;34m)\u001b[0m\u001b[0;34m\u001b[0m\u001b[0;34m\u001b[0m\u001b[0m\n",
      "\u001b[0;31mNameError\u001b[0m: name 'points3d_person' is not defined"
     ]
    }
   ],
   "source": [
    "points2d_person = camera.project_points(points3d_person)\n",
    "print(points2d_person)"
   ]
  },
  {
   "cell_type": "markdown",
   "metadata": {},
   "source": [
    "Using Camera object to project 3D points of the pose into the 2D image plane"
   ]
  },
  {
   "cell_type": "code",
   "execution_count": 10,
   "metadata": {},
   "outputs": [
    {
     "ename": "NameError",
     "evalue": "name 'points3d_pose' is not defined",
     "output_type": "error",
     "traceback": [
      "\u001b[0;31m---------------------------------------------------------------------------\u001b[0m",
      "\u001b[0;31mNameError\u001b[0m                                 Traceback (most recent call last)",
      "\u001b[0;32m<ipython-input-10-197908956516>\u001b[0m in \u001b[0;36m<module>\u001b[0;34m\u001b[0m\n\u001b[0;32m----> 1\u001b[0;31m \u001b[0mpoints2d_pose\u001b[0m \u001b[0;34m=\u001b[0m \u001b[0mcamera\u001b[0m\u001b[0;34m.\u001b[0m\u001b[0mproject_points\u001b[0m\u001b[0;34m(\u001b[0m\u001b[0mpoints3d_pose\u001b[0m\u001b[0;34m)\u001b[0m\u001b[0;34m\u001b[0m\u001b[0;34m\u001b[0m\u001b[0m\n\u001b[0m\u001b[1;32m      2\u001b[0m \u001b[0mprint\u001b[0m\u001b[0;34m(\u001b[0m\u001b[0mpoints2d_pose\u001b[0m\u001b[0;34m)\u001b[0m\u001b[0;34m\u001b[0m\u001b[0;34m\u001b[0m\u001b[0m\n",
      "\u001b[0;31mNameError\u001b[0m: name 'points3d_pose' is not defined"
     ]
    }
   ],
   "source": [
    "points2d_pose = camera.project_points(points3d_pose)\n",
    "print(points2d_pose)"
   ]
  },
  {
   "cell_type": "markdown",
   "metadata": {},
   "source": [
    "Get an array with all activities for person with pid 2"
   ]
  },
  {
   "cell_type": "code",
   "execution_count": 11,
   "metadata": {
    "pycharm": {
     "name": "#%%\n"
    }
   },
   "outputs": [
    {
     "name": "stdout",
     "output_type": "stream",
     "text": [
      "[{'label': 'carry plate', 'start_frame': 2271, 'end_frame': 2367}\n",
      " {'label': 'carry cake', 'start_frame': 2647, 'end_frame': 2739}\n",
      " {'label': 'carry cup', 'start_frame': 1009, 'end_frame': 1187}\n",
      " {'label': 'open fridge', 'start_frame': 1197, 'end_frame': 1229}\n",
      " {'label': 'take cake out of fridge', 'start_frame': 1245, 'end_frame': 1345}\n",
      " {'label': 'carry cake', 'start_frame': 1271, 'end_frame': 1387}\n",
      " {'label': 'close fridge', 'start_frame': 1333, 'end_frame': 1363}\n",
      " {'label': 'place cake on table', 'start_frame': 1387, 'end_frame': 1399}\n",
      " {'label': 'open drawer', 'start_frame': 1531, 'end_frame': 1571}\n",
      " {'label': 'close drawer', 'start_frame': 1607, 'end_frame': 1649}\n",
      " {'label': 'cut cake in pieces', 'start_frame': 1723, 'end_frame': 2105}\n",
      " {'label': 'open cupboard', 'start_frame': 2133, 'end_frame': 2159}\n",
      " {'label': 'close cupboard', 'start_frame': 2159, 'end_frame': 2199}\n",
      " {'label': 'open cupboard', 'start_frame': 2223, 'end_frame': 2253}\n",
      " {'label': 'close cupboard', 'start_frame': 2275, 'end_frame': 2297}\n",
      " {'label': 'cut cake in pieces', 'start_frame': 2367, 'end_frame': 2599}\n",
      " {'label': 'place cake on plate', 'start_frame': 2599, 'end_frame': 2745}\n",
      " {'label': 'washing hands', 'start_frame': 2845, 'end_frame': 2983}\n",
      " {'label': 'carry plate', 'start_frame': 3017, 'end_frame': 3265}\n",
      " {'label': 'open drawer', 'start_frame': 3041, 'end_frame': 3069}\n",
      " {'label': 'close drawer', 'start_frame': 3091, 'end_frame': 3137}\n",
      " {'label': 'take cup from coffee machine', 'start_frame': 3189, 'end_frame': 3205}\n",
      " {'label': 'carry cup', 'start_frame': 3199, 'end_frame': 3233}\n",
      " {'label': 'carry cup', 'start_frame': 3301, 'end_frame': 3341}\n",
      " {'label': 'place cup onto coffee machine', 'start_frame': 3325, 'end_frame': 3343}\n",
      " {'label': 'make coffee', 'start_frame': 3335, 'end_frame': 4731}\n",
      " {'label': 'press coffee button', 'start_frame': 3353, 'end_frame': 3371}\n",
      " {'label': 'mark coffee', 'start_frame': 3425, 'end_frame': 3543}\n",
      " {'label': 'carry plate', 'start_frame': 3919, 'end_frame': 3997}\n",
      " {'label': 'take cup from coffee machine', 'start_frame': 4713, 'end_frame': 4759}\n",
      " {'label': 'carry cup', 'start_frame': 4719, 'end_frame': 4787}\n",
      " {'label': 'open fridge', 'start_frame': 4807, 'end_frame': 4841}\n",
      " {'label': 'take milk', 'start_frame': 4859, 'end_frame': 5173}\n",
      " {'label': 'close fridge', 'start_frame': 4861, 'end_frame': 4895}\n",
      " {'label': 'pour milk', 'start_frame': 4969, 'end_frame': 5043}\n",
      " {'label': 'open fridge', 'start_frame': 5113, 'end_frame': 5135}\n",
      " {'label': 'close fridge', 'start_frame': 5219, 'end_frame': 5251}\n",
      " {'label': 'clean countertop', 'start_frame': 5249, 'end_frame': 5289}\n",
      " {'label': 'carry cup', 'start_frame': 5251, 'end_frame': 5335}\n",
      " {'label': 'carry plate', 'start_frame': 5381, 'end_frame': 5599}\n",
      " {'label': 'carry cup', 'start_frame': 5475, 'end_frame': 5599}\n",
      " {'label': 'walking', 'start_frame': 1001, 'end_frame': 1147}\n",
      " {'label': 'standing', 'start_frame': 1149, 'end_frame': 1181}\n",
      " {'label': 'leaning down', 'start_frame': 1183, 'end_frame': 1315}\n",
      " {'label': 'standing up', 'start_frame': 1317, 'end_frame': 1351}\n",
      " {'label': 'standing', 'start_frame': 1353, 'end_frame': 2199}\n",
      " {'label': 'steps', 'start_frame': 1505, 'end_frame': 1533}\n",
      " {'label': 'steps', 'start_frame': 2129, 'end_frame': 2153}\n",
      " {'label': 'steps', 'start_frame': 2199, 'end_frame': 2237}\n",
      " {'label': 'standing', 'start_frame': 2237, 'end_frame': 2315}\n",
      " {'label': 'steps', 'start_frame': 2305, 'end_frame': 2353}\n",
      " {'label': 'walking', 'start_frame': 2317, 'end_frame': 2349}\n",
      " {'label': 'standing', 'start_frame': 2351, 'end_frame': 2799}\n",
      " {'label': 'walking', 'start_frame': 2799, 'end_frame': 2847}\n",
      " {'label': 'steps', 'start_frame': 2799, 'end_frame': 2851}\n",
      " {'label': 'standing', 'start_frame': 2849, 'end_frame': 2979}\n",
      " {'label': 'steps', 'start_frame': 2977, 'end_frame': 3033}\n",
      " {'label': 'walking', 'start_frame': 2981, 'end_frame': 3031}\n",
      " {'label': 'standing', 'start_frame': 3033, 'end_frame': 3135}\n",
      " {'label': 'steps', 'start_frame': 3131, 'end_frame': 3185}\n",
      " {'label': 'walking', 'start_frame': 3137, 'end_frame': 3181}\n",
      " {'label': 'standing', 'start_frame': 3183, 'end_frame': 3399}\n",
      " {'label': 'steps', 'start_frame': 3309, 'end_frame': 3327}\n",
      " {'label': 'steps', 'start_frame': 3391, 'end_frame': 3425}\n",
      " {'label': 'standing', 'start_frame': 3435, 'end_frame': 3543}\n",
      " {'label': 'steps', 'start_frame': 3447, 'end_frame': 3471}\n",
      " {'label': 'steps', 'start_frame': 3561, 'end_frame': 3577}\n",
      " {'label': 'standing', 'start_frame': 3575, 'end_frame': 3641}\n",
      " {'label': 'steps', 'start_frame': 3643, 'end_frame': 3675}\n",
      " {'label': 'standing', 'start_frame': 3677, 'end_frame': 3943}\n",
      " {'label': 'walking', 'start_frame': 3945, 'end_frame': 3999}\n",
      " {'label': 'standing', 'start_frame': 3999, 'end_frame': 4021}\n",
      " {'label': 'walking', 'start_frame': 4023, 'end_frame': 4073}\n",
      " {'label': 'standing', 'start_frame': 4075, 'end_frame': 4761}\n",
      " {'label': 'steps', 'start_frame': 4763, 'end_frame': 4787}\n",
      " {'label': 'standing', 'start_frame': 4789, 'end_frame': 4799}\n",
      " {'label': 'steps', 'start_frame': 4799, 'end_frame': 4823}\n",
      " {'label': 'standing', 'start_frame': 4825, 'end_frame': 4883}\n",
      " {'label': 'steps', 'start_frame': 4885, 'end_frame': 4911}\n",
      " {'label': 'standing', 'start_frame': 4911, 'end_frame': 5115}\n",
      " {'label': 'leaning down', 'start_frame': 5117, 'end_frame': 5217}\n",
      " {'label': 'standing', 'start_frame': 5219, 'end_frame': 5289}\n",
      " {'label': 'walking', 'start_frame': 5291, 'end_frame': 5385}\n",
      " {'label': 'standing', 'start_frame': 5387, 'end_frame': 5423}\n",
      " {'label': 'steps', 'start_frame': 5425, 'end_frame': 5461}\n",
      " {'label': 'standing', 'start_frame': 5463, 'end_frame': 5493}\n",
      " {'label': 'walking', 'start_frame': 5493, 'end_frame': 5599}\n",
      " {'label': 'walking', 'start_frame': 28089, 'end_frame': 28275}\n",
      " {'label': 'walking', 'start_frame': 31647, 'end_frame': 31793}\n",
      " {'label': 'walking', 'start_frame': 34713, 'end_frame': 34879}]\n"
     ]
    }
   ],
   "source": [
    "print(aik.get_activities_for_person(2))"
   ]
  },
  {
   "cell_type": "markdown",
   "metadata": {},
   "source": [
    "Unroll videos using the format indicated in the constructor (This may take a while):\n",
    "- By default, all videos are unrolled and if the frames already exists, they are not overwritten\n",
    "- In order to unroll only one video, you can use the parameter video=X\n",
    "- If you want to overwrite the existing frames, you have to use force=True\n",
    "\n",
    "If the videos are not unrolled before getting the individual frames, then they will be automatically unrolled when you try to get the frames."
   ]
  },
  {
   "cell_type": "code",
   "execution_count": 46,
   "metadata": {},
   "outputs": [
    {
     "name": "stdout",
     "output_type": "stream",
     "text": [
      "The videos are already unrolled. If you want to unroll them again and overwrite the current frames, please use the option force=True\n"
     ]
    }
   ],
   "source": [
    "aik.unroll_videos()\n",
    "#aik.unroll_videos(force=True)             # Force to overwrite unrolled frames\n",
    "#aik.unroll_videos(video=2)                # Unroll only video 2\n",
    "#aik.unroll_videos(force=True, video=2)    # Force to overwrite frames of video 2 if they already exist"
   ]
  },
  {
   "cell_type": "markdown",
   "metadata": {},
   "source": [
    "Get images from 12 cameras for frame 1.\n"
   ]
  },
  {
   "cell_type": "code",
   "execution_count": 12,
   "metadata": {
    "pycharm": {
     "name": "#%%\n"
    }
   },
   "outputs": [
    {
     "name": "stdout",
     "output_type": "stream",
     "text": [
      "Searching for images of frame  1 ...\n",
      "Frame name: frame000000001.png\n",
      "Images of frame  1  retrieved.\n",
      "[[[[231 249 248]\n",
      "   [237 255 254]\n",
      "   [235 250 250]\n",
      "   ...\n",
      "   [ 63  61  57]\n",
      "   [ 63  61  57]\n",
      "   [ 63  61  57]]\n",
      "\n",
      "  [[235 253 252]\n",
      "   [237 255 254]\n",
      "   [236 251 251]\n",
      "   ...\n",
      "   [ 63  61  57]\n",
      "   [ 63  61  57]\n",
      "   [ 63  61  57]]\n",
      "\n",
      "  [[241 255 255]\n",
      "   [240 255 255]\n",
      "   [238 253 253]\n",
      "   ...\n",
      "   [ 63  61  57]\n",
      "   [ 63  61  57]\n",
      "   [ 63  61  57]]\n",
      "\n",
      "  ...\n",
      "\n",
      "  [[ 79  77  71]\n",
      "   [ 79  77  71]\n",
      "   [ 79  77  71]\n",
      "   ...\n",
      "   [228 192 134]\n",
      "   [220 184 126]\n",
      "   [217 181 123]]\n",
      "\n",
      "  [[ 79  77  71]\n",
      "   [ 79  77  71]\n",
      "   [ 79  77  71]\n",
      "   ...\n",
      "   [225 189 131]\n",
      "   [217 181 123]\n",
      "   [212 176 118]]\n",
      "\n",
      "  [[ 79  77  71]\n",
      "   [ 79  77  71]\n",
      "   [ 79  77  71]\n",
      "   ...\n",
      "   [222 186 128]\n",
      "   [215 179 121]\n",
      "   [211 175 117]]]\n",
      "\n",
      "\n",
      " [[[115 110 105]\n",
      "   [115 110 105]\n",
      "   [113 108 103]\n",
      "   ...\n",
      "   [117 113  94]\n",
      "   [117 113  94]\n",
      "   [117 113  94]]\n",
      "\n",
      "  [[115 110 105]\n",
      "   [115 110 105]\n",
      "   [113 108 103]\n",
      "   ...\n",
      "   [117 113  94]\n",
      "   [117 113  94]\n",
      "   [117 113  94]]\n",
      "\n",
      "  [[115 110 105]\n",
      "   [115 110 105]\n",
      "   [113 108 103]\n",
      "   ...\n",
      "   [117 113  94]\n",
      "   [117 113  94]\n",
      "   [117 113  94]]\n",
      "\n",
      "  ...\n",
      "\n",
      "  [[106 101  98]\n",
      "   [106 101  98]\n",
      "   [106 101  98]\n",
      "   ...\n",
      "   [161 157 141]\n",
      "   [161 157 141]\n",
      "   [161 157 141]]\n",
      "\n",
      "  [[106 101  98]\n",
      "   [106 101  98]\n",
      "   [106 101  98]\n",
      "   ...\n",
      "   [161 157 141]\n",
      "   [161 157 141]\n",
      "   [161 157 141]]\n",
      "\n",
      "  [[106 101  98]\n",
      "   [106 101  98]\n",
      "   [106 101  98]\n",
      "   ...\n",
      "   [161 157 141]\n",
      "   [161 157 141]\n",
      "   [161 157 141]]]\n",
      "\n",
      "\n",
      " [[[228 219 201]\n",
      "   [228 219 201]\n",
      "   [228 218 200]\n",
      "   ...\n",
      "   [111 116 112]\n",
      "   [111 116 112]\n",
      "   [111 116 112]]\n",
      "\n",
      "  [[228 219 201]\n",
      "   [228 219 201]\n",
      "   [228 218 200]\n",
      "   ...\n",
      "   [111 116 112]\n",
      "   [111 116 112]\n",
      "   [111 116 112]]\n",
      "\n",
      "  [[228 219 201]\n",
      "   [228 219 201]\n",
      "   [228 218 200]\n",
      "   ...\n",
      "   [111 116 112]\n",
      "   [111 116 112]\n",
      "   [111 116 112]]\n",
      "\n",
      "  ...\n",
      "\n",
      "  [[125 124 113]\n",
      "   [125 124 113]\n",
      "   [125 124 113]\n",
      "   ...\n",
      "   [ 66  75  82]\n",
      "   [ 70  79  86]\n",
      "   [ 71  80  87]]\n",
      "\n",
      "  [[125 124 113]\n",
      "   [125 124 113]\n",
      "   [125 124 113]\n",
      "   ...\n",
      "   [ 65  74  81]\n",
      "   [ 68  77  84]\n",
      "   [ 70  79  86]]\n",
      "\n",
      "  [[125 124 113]\n",
      "   [125 124 113]\n",
      "   [125 124 113]\n",
      "   ...\n",
      "   [ 65  74  81]\n",
      "   [ 67  76  83]\n",
      "   [ 70  79  86]]]\n",
      "\n",
      "\n",
      " ...\n",
      "\n",
      "\n",
      " [[[103  99  89]\n",
      "   [103  99  89]\n",
      "   [103  99  89]\n",
      "   ...\n",
      "   [140 135 130]\n",
      "   [143 138 133]\n",
      "   [146 141 136]]\n",
      "\n",
      "  [[103  99  89]\n",
      "   [103  99  89]\n",
      "   [103  99  89]\n",
      "   ...\n",
      "   [140 135 130]\n",
      "   [143 138 133]\n",
      "   [146 141 136]]\n",
      "\n",
      "  [[103  99  89]\n",
      "   [103  99  89]\n",
      "   [103  99  89]\n",
      "   ...\n",
      "   [140 135 130]\n",
      "   [143 138 133]\n",
      "   [146 141 136]]\n",
      "\n",
      "  ...\n",
      "\n",
      "  [[204 200 190]\n",
      "   [203 199 189]\n",
      "   [202 198 188]\n",
      "   ...\n",
      "   [177 175 169]\n",
      "   [177 175 169]\n",
      "   [177 175 169]]\n",
      "\n",
      "  [[204 200 190]\n",
      "   [203 199 189]\n",
      "   [202 198 188]\n",
      "   ...\n",
      "   [177 175 169]\n",
      "   [177 175 169]\n",
      "   [177 175 169]]\n",
      "\n",
      "  [[204 200 190]\n",
      "   [203 199 189]\n",
      "   [202 198 188]\n",
      "   ...\n",
      "   [177 175 169]\n",
      "   [177 175 169]\n",
      "   [177 175 169]]]\n",
      "\n",
      "\n",
      " [[[110 112 107]\n",
      "   [110 112 107]\n",
      "   [110 112 107]\n",
      "   ...\n",
      "   [105 104  93]\n",
      "   [105 104  93]\n",
      "   [105 104  93]]\n",
      "\n",
      "  [[110 112 107]\n",
      "   [110 112 107]\n",
      "   [110 112 107]\n",
      "   ...\n",
      "   [105 104  93]\n",
      "   [105 104  93]\n",
      "   [105 104  93]]\n",
      "\n",
      "  [[110 112 107]\n",
      "   [110 112 107]\n",
      "   [110 112 107]\n",
      "   ...\n",
      "   [105 104  93]\n",
      "   [105 104  93]\n",
      "   [105 104  93]]\n",
      "\n",
      "  ...\n",
      "\n",
      "  [[ 46  48  43]\n",
      "   [ 46  48  43]\n",
      "   [ 46  48  43]\n",
      "   ...\n",
      "   [ 83  83  74]\n",
      "   [ 83  83  74]\n",
      "   [ 83  83  74]]\n",
      "\n",
      "  [[ 46  48  43]\n",
      "   [ 46  48  43]\n",
      "   [ 46  48  43]\n",
      "   ...\n",
      "   [ 83  83  74]\n",
      "   [ 83  83  74]\n",
      "   [ 83  83  74]]\n",
      "\n",
      "  [[ 46  48  43]\n",
      "   [ 46  48  43]\n",
      "   [ 46  48  43]\n",
      "   ...\n",
      "   [ 83  83  74]\n",
      "   [ 83  83  74]\n",
      "   [ 83  83  74]]]\n",
      "\n",
      "\n",
      " [[[232 220 200]\n",
      "   [232 220 200]\n",
      "   [232 220 200]\n",
      "   ...\n",
      "   [111 111 106]\n",
      "   [111 111 106]\n",
      "   [111 111 106]]\n",
      "\n",
      "  [[232 220 200]\n",
      "   [232 220 200]\n",
      "   [232 220 200]\n",
      "   ...\n",
      "   [111 111 106]\n",
      "   [111 111 106]\n",
      "   [111 111 106]]\n",
      "\n",
      "  [[232 220 200]\n",
      "   [232 220 200]\n",
      "   [232 220 200]\n",
      "   ...\n",
      "   [111 111 106]\n",
      "   [111 111 106]\n",
      "   [111 111 106]]\n",
      "\n",
      "  ...\n",
      "\n",
      "  [[162 157 152]\n",
      "   [161 156 151]\n",
      "   [157 152 147]\n",
      "   ...\n",
      "   [191 197 205]\n",
      "   [191 197 205]\n",
      "   [191 197 205]]\n",
      "\n",
      "  [[162 157 152]\n",
      "   [161 156 151]\n",
      "   [157 152 147]\n",
      "   ...\n",
      "   [191 197 205]\n",
      "   [191 197 205]\n",
      "   [191 197 205]]\n",
      "\n",
      "  [[161 156 151]\n",
      "   [160 155 150]\n",
      "   [156 151 146]\n",
      "   ...\n",
      "   [191 197 205]\n",
      "   [191 197 205]\n",
      "   [191 197 205]]]]\n"
     ]
    }
   ],
   "source": [
    "print(aik.get_images_in_frame(1))"
   ]
  },
  {
   "cell_type": "markdown",
   "metadata": {
    "pycharm": {
     "name": "#%%\n"
    }
   },
   "source": [
    "Get all the available person IDs existing in the dataset."
   ]
  },
  {
   "cell_type": "code",
   "execution_count": 13,
   "metadata": {},
   "outputs": [
    {
     "name": "stdout",
     "output_type": "stream",
     "text": [
      "[ 1  2  3  4  5  6  7  8  9 10 11 12 13 14 15 16 17 18 19]\n"
     ]
    }
   ],
   "source": [
    "print(aik.get_person_ids())"
   ]
  },
  {
   "cell_type": "code",
   "execution_count": null,
   "metadata": {},
   "outputs": [],
   "source": []
  }
 ],
 "metadata": {
  "kernelspec": {
   "display_name": "Python 3",
   "language": "python",
   "name": "python3"
  },
  "language_info": {
   "codemirror_mode": {
    "name": "ipython",
    "version": 3
   },
   "file_extension": ".py",
   "mimetype": "text/x-python",
   "name": "python",
   "nbconvert_exporter": "python",
   "pygments_lexer": "ipython3",
   "version": "3.8.5"
  }
 },
 "nbformat": 4,
 "nbformat_minor": 1
}
