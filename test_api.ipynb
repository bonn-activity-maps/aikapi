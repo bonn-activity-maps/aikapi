{
 "cells": [
  {
   "cell_type": "code",
   "execution_count": 36,
   "metadata": {},
   "outputs": [],
   "source": [
    "import numpy as np\n",
    "from PythonAPI.aik import AIK\n",
    "from PythonAPI.utils.camera import Camera"
   ]
  },
  {
   "cell_type": "markdown",
   "metadata": {},
   "source": [
    "Define the absolute path to the dataset and the dataset name.\n",
    "\n",
    "Create AIK object to load the dataset:\n",
    "\n",
    "- All the annotations will be loaded into memory and processed.\n",
    "- The videos are unrolled in png images by default, but the format can be changed to jpeg."
   ]
  },
  {
   "cell_type": "code",
   "execution_count": 37,
   "metadata": {
    "pycharm": {
     "name": "#%%\n"
    }
   },
   "outputs": [
    {
     "name": "stdout",
     "output_type": "stream",
     "text": [
      "Reading dataset information...\n",
      "Loading calibration parameters...\n",
      "     camera00.json...\n",
      "     camera01.json...\n",
      "     camera02.json...\n",
      "     camera03.json...\n",
      "     camera04.json...\n",
      "     camera05.json...\n",
      "     camera06.json...\n",
      "     camera07.json...\n",
      "     camera08.json...\n",
      "     camera09.json...\n",
      "     camera10.json...\n",
      "     camera11.json...\n",
      "Loading annotations...\n",
      "Processing persons...\n",
      "Processing actions...\n",
      "Finish loading dataset\n"
     ]
    }
   ],
   "source": [
    "dataset_dir = '/home/beatriz/Documentos/Work' # Your path\n",
    "dataset_name = '181129'\n",
    "\n",
    "aik = AIK(dataset_dir, dataset_name, image_format='png')"
   ]
  },
  {
   "cell_type": "markdown",
   "metadata": {},
   "source": [
    "Get Camera object for camera 3 and frame 1 (Camera usage example can be found below)"
   ]
  },
  {
   "cell_type": "code",
   "execution_count": 38,
   "metadata": {
    "pycharm": {
     "name": "#%%\n"
    },
    "scrolled": true
   },
   "outputs": [
    {
     "name": "stdout",
     "output_type": "stream",
     "text": [
      "{\"K\": [[1059.111083984375, 0.0, 638.343994140625], [0.0, 1058.1497802734375, 394.7500305175781], [0.0, 0.0, 1.0]], \"P\": [[-745.3416037397837, -970.7086534756199, -170.29725224389983, 4867.531825297799], [48.999378047246864, -99.75383605078969, -1122.3262807831234, 2640.7506968589573], [0.36730334162712097, -0.894257664680481, -0.25571754574775696, 5.646644722770345]], \"rvec\": [0.4403006434440613, -2.2728705406188965, 1.7474119663238525], \"tvec\": [1.196131706237793, 0.39258167147636414, 5.646644592285156], \"distCoef\": [0.0, 0.0, 0.0, 0.0, 0.0], \"w\": 1280, \"h\": 720}\n"
     ]
    }
   ],
   "source": [
    "camera = aik.get_camera(3,1)\n",
    "print(camera.to_json())"
   ]
  },
  {
   "cell_type": "markdown",
   "metadata": {},
   "source": [
    "Get an array with all persons annotated in frame 1000"
   ]
  },
  {
   "cell_type": "code",
   "execution_count": 39,
   "metadata": {
    "pycharm": {
     "name": "#%%\n"
    }
   },
   "outputs": [
    {
     "name": "stdout",
     "output_type": "stream",
     "text": [
      "[{'pid': 1, 'location': [[0.4725225083438994, 3.2036562873361634, 1.5915690694943898]], 'type': 'personAIK'}]\n"
     ]
    }
   ],
   "source": [
    "print(aik.get_persons_in_frame(1000))"
   ]
  },
  {
   "cell_type": "markdown",
   "metadata": {},
   "source": [
    "Get an array with all poses annotated in frame 1000"
   ]
  },
  {
   "cell_type": "code",
   "execution_count": 40,
   "metadata": {},
   "outputs": [
    {
     "name": "stdout",
     "output_type": "stream",
     "text": [
      "[{'pid': 1, 'location': [[0.4940468668937683, 3.0975520610809326, 1.5879707336425781], [0.33225908875465393, 3.3022162914276123, 1.4874387979507446], [0.248513141442759, 3.1166828037377776, 1.4797768626685919], [0.20898175630705926, 3.074002764986737, 1.1761494834683632], [0.4430496301335054, 3.003187955078469, 1.0902041995243112], [0.38873064050115674, 3.427037257731697, 1.496395562953885], [0.3684694009394898, 3.523452423490153, 1.2177340325466113], [0.491342276987256, 3.4243839963247877, 1.097171939112425], [0.23896421401011708, 3.189862974200601, 0.9370316866970752], [0.24986874568797326, 3.1303426266153522, 0.554225104984327], [0.1988182237148894, 3.1238738197003224, 0.13678569408919353], [0.3448095801460418, 3.369042606439794, 0.9246938349214029], [0.338286297862635, 3.3997655290610216, 0.5305125781965845], [0.26704269329099944, 3.4579307929059104, 0.12287995423906839], [0.4640180468559265, 3.098863124847412, 1.620947539806366], [0.5159120857715607, 3.104530453681946, 1.6131974458694458], [0.373912051320076, 3.1984314918518066, 1.661201536655426], [0.44567590951919556, 3.4155161380767822, 1.6613013744354248], [0.41775786876678467, 3.447473168373108, 0.09681456908583641], [None, None, None], [0.23499519377946854, 3.466580867767334, 0.06517711095511913], [0.3403117209672928, 2.8735851049423218, 0.1176888756453991], [0.29075057804584503, 2.879407286643982, 0.11120006069540977], [0.16561637073755264, 3.166993737220764, 0.08272380754351616]], 'type': 'poseAIK'}]\n"
     ]
    }
   ],
   "source": [
    "print(aik.get_poses_in_frame(1000))"
   ]
  },
  {
   "cell_type": "markdown",
   "metadata": {},
   "source": [
    "Get the annotated person with pid 1 in frame 999"
   ]
  },
  {
   "cell_type": "code",
   "execution_count": 41,
   "metadata": {
    "pycharm": {
     "name": "#%%\n"
    }
   },
   "outputs": [
    {
     "name": "stdout",
     "output_type": "stream",
     "text": [
      "[[0.49833926 3.21710291 1.58288691]]\n"
     ]
    }
   ],
   "source": [
    "points3d_person = aik.get_person_in_frame(999, 1)\n",
    "print(points3d_person)"
   ]
  },
  {
   "cell_type": "markdown",
   "metadata": {},
   "source": [
    "Get the pose for person with pid 1 in frame 999"
   ]
  },
  {
   "cell_type": "code",
   "execution_count": 42,
   "metadata": {},
   "outputs": [
    {
     "name": "stdout",
     "output_type": "stream",
     "text": [
      "[[0.5035534501075745 3.130488157272339 1.5877115726470947]\n",
      " [0.33670544624328613 3.3233115673065186 1.4915584325790405]\n",
      " [0.2601630934244206 3.1344935528657083 1.4807234524039452]\n",
      " [0.23090367223047764 3.0881537576408444 1.1747466193888727]\n",
      " [0.4624710651429028 3.029305688118087 1.0831168845064802]\n",
      " [0.3856729454498077 3.455096568910931 1.4978647658373092]\n",
      " [0.3619406195839864 3.5508452311951317 1.2187215628731682]\n",
      " [0.4886760044595372 3.4570746179859917 1.0985927148803882]\n",
      " [0.24285354310399074 3.209109735748986 0.937708336249335]\n",
      " [0.25412233062007106 3.1515303312903313 0.5549463394038321]\n",
      " [0.20223532605420524 3.136944223773778 0.1367580121232862]\n",
      " [0.34022819265764337 3.3945968087010883 0.9251715573337408]\n",
      " [0.331675231308763 3.423327599530494 0.525658220126438]\n",
      " [0.26221012966169743 3.468437276697019 0.11578491871101904]\n",
      " [0.47325873374938965 3.134596586227417 1.6200170516967773]\n",
      " [0.5254986882209778 3.126495838165283 1.611875295639038]\n",
      " [0.3865627348423004 3.2179574966430664 1.6643463373184204]\n",
      " [0.45403292775154114 3.440657615661621 1.6612342596054077]\n",
      " [0.4229675829410553 3.4583511352539062 0.09613849222660065]\n",
      " [None None None]\n",
      " [0.22902971506118774 3.5008974075317383 0.052571285516023636]\n",
      " [0.37549903988838196 2.927037000656128 0.10360845178365707]\n",
      " [0.330640584230423 2.94777774810791 0.08390694111585617]\n",
      " [0.18403440713882446 3.147005319595337 0.10133621841669083]]\n"
     ]
    }
   ],
   "source": [
    "points3d_pose = aik.get_pose_in_frame(999, 1)\n",
    "print(points3d_pose)"
   ]
  },
  {
   "cell_type": "markdown",
   "metadata": {},
   "source": [
    "Using Camera object to project 3D points into the 2D image plane"
   ]
  },
  {
   "cell_type": "code",
   "execution_count": 43,
   "metadata": {},
   "outputs": [
    {
     "name": "stdout",
     "output_type": "stream",
     "text": [
      "[[433.4901123 223.1262207]]\n"
     ]
    }
   ],
   "source": [
    "points2d_person = camera.project_points(points3d_person)\n",
    "print(points2d_person)"
   ]
  },
  {
   "cell_type": "markdown",
   "metadata": {},
   "source": [
    "Using Camera object to project 3D points of the pose into the 2D image plane"
   ]
  },
  {
   "cell_type": "code",
   "execution_count": 44,
   "metadata": {},
   "outputs": [
    {
     "name": "stdout",
     "output_type": "stream",
     "text": [
      "[[450.8388366699219 217.81466674804688]\n",
      " [470.61767578125 270.0149841308594]\n",
      " [538.8987426757812 265.5368347167969]\n",
      " [561.4820556640625 384.7188720703125]\n",
      " [494.21343994140625 405.29412841796875]\n",
      " [419.7138671875 274.1397399902344]\n",
      " [411.8172912597656 409.0498046875]\n",
      " [391.7168884277344 443.5646667480469]\n",
      " [537.956298828125 488.101806640625]\n",
      " [548.814697265625 618.168212890625]\n",
      " [572.6828002929688 759.2857666015625]\n",
      " [464.9683837890625 513.0198974609375]\n",
      " [469.81256103515625 671.6459350585938]\n",
      " [492.6123046875 834.9786376953125]\n",
      " [459.8658752441406 205.0677032470703]\n",
      " [443.5933532714844 207.6044158935547]\n",
      " [472.044921875 189.6732635498047]\n",
      " [392.3619689941406 197.2364501953125]\n",
      " [439.4338684082031 823.7847290039062]\n",
      " [None None]\n",
      " [498.9254150390625 868.6483764648438]\n",
      " [550.8798828125 717.7140502929688]\n",
      " [561.549560546875 730.377685546875]\n",
      " [577.42626953125 774.226806640625]]\n"
     ]
    }
   ],
   "source": [
    "points2d_pose = camera.project_points(points3d_pose)\n",
    "print(points2d_pose)"
   ]
  },
  {
   "cell_type": "markdown",
   "metadata": {},
   "source": [
    "Get an array with all activities for person with pid 2"
   ]
  },
  {
   "cell_type": "code",
   "execution_count": 45,
   "metadata": {
    "pycharm": {
     "name": "#%%\n"
    }
   },
   "outputs": [
    {
     "name": "stdout",
     "output_type": "stream",
     "text": [
      "[{'label': 'carry plate', 'start_frame': 2271, 'end_frame': 2367}\n",
      " {'label': 'carry cake', 'start_frame': 2647, 'end_frame': 2739}\n",
      " {'label': 'carry cup', 'start_frame': 1009, 'end_frame': 1187}\n",
      " {'label': 'open fridge', 'start_frame': 1197, 'end_frame': 1229}\n",
      " {'label': 'take cake out of fridge', 'start_frame': 1245, 'end_frame': 1345}\n",
      " {'label': 'carry cake', 'start_frame': 1271, 'end_frame': 1387}\n",
      " {'label': 'close fridge', 'start_frame': 1333, 'end_frame': 1363}\n",
      " {'label': 'place cake on table', 'start_frame': 1387, 'end_frame': 1399}\n",
      " {'label': 'open drawer', 'start_frame': 1531, 'end_frame': 1571}\n",
      " {'label': 'close drawer', 'start_frame': 1607, 'end_frame': 1649}\n",
      " {'label': 'cut cake in pieces', 'start_frame': 1723, 'end_frame': 2105}\n",
      " {'label': 'open cupboard', 'start_frame': 2133, 'end_frame': 2159}\n",
      " {'label': 'close cupboard', 'start_frame': 2159, 'end_frame': 2199}\n",
      " {'label': 'open cupboard', 'start_frame': 2223, 'end_frame': 2253}\n",
      " {'label': 'close cupboard', 'start_frame': 2275, 'end_frame': 2297}\n",
      " {'label': 'cut cake in pieces', 'start_frame': 2367, 'end_frame': 2599}\n",
      " {'label': 'place cake on plate', 'start_frame': 2599, 'end_frame': 2745}\n",
      " {'label': 'washing hands', 'start_frame': 2845, 'end_frame': 2983}\n",
      " {'label': 'carry plate', 'start_frame': 3017, 'end_frame': 3265}\n",
      " {'label': 'open drawer', 'start_frame': 3041, 'end_frame': 3069}\n",
      " {'label': 'close drawer', 'start_frame': 3091, 'end_frame': 3137}\n",
      " {'label': 'take cup from coffee machine', 'start_frame': 3189, 'end_frame': 3205}\n",
      " {'label': 'carry cup', 'start_frame': 3199, 'end_frame': 3233}\n",
      " {'label': 'carry cup', 'start_frame': 3301, 'end_frame': 3341}\n",
      " {'label': 'place cup onto coffee machine', 'start_frame': 3325, 'end_frame': 3343}\n",
      " {'label': 'make coffee', 'start_frame': 3335, 'end_frame': 4731}\n",
      " {'label': 'press coffee button', 'start_frame': 3353, 'end_frame': 3371}\n",
      " {'label': 'carry plate', 'start_frame': 3919, 'end_frame': 3997}\n",
      " {'label': 'take cup from coffee machine', 'start_frame': 4713, 'end_frame': 4759}\n",
      " {'label': 'carry cup', 'start_frame': 4719, 'end_frame': 4787}\n",
      " {'label': 'open fridge', 'start_frame': 4807, 'end_frame': 4841}\n",
      " {'label': 'take milk', 'start_frame': 4859, 'end_frame': 5173}\n",
      " {'label': 'close fridge', 'start_frame': 4861, 'end_frame': 4895}\n",
      " {'label': 'pour milk', 'start_frame': 4969, 'end_frame': 5043}\n",
      " {'label': 'open fridge', 'start_frame': 5113, 'end_frame': 5135}\n",
      " {'label': 'close fridge', 'start_frame': 5219, 'end_frame': 5251}\n",
      " {'label': 'clean countertop', 'start_frame': 5249, 'end_frame': 5289}\n",
      " {'label': 'carry cup', 'start_frame': 5251, 'end_frame': 5335}\n",
      " {'label': 'carry plate', 'start_frame': 5381, 'end_frame': 5599}\n",
      " {'label': 'carry cup', 'start_frame': 5475, 'end_frame': 5599}\n",
      " {'label': 'walking', 'start_frame': 1001, 'end_frame': 1147}\n",
      " {'label': 'standing', 'start_frame': 1149, 'end_frame': 1181}\n",
      " {'label': 'leaning down', 'start_frame': 1183, 'end_frame': 1315}\n",
      " {'label': 'standing up', 'start_frame': 1317, 'end_frame': 1351}\n",
      " {'label': 'standing', 'start_frame': 1353, 'end_frame': 2199}\n",
      " {'label': 'steps', 'start_frame': 1505, 'end_frame': 1533}\n",
      " {'label': 'steps', 'start_frame': 2129, 'end_frame': 2153}\n",
      " {'label': 'steps', 'start_frame': 2199, 'end_frame': 2237}\n",
      " {'label': 'standing', 'start_frame': 2237, 'end_frame': 2315}\n",
      " {'label': 'steps', 'start_frame': 2305, 'end_frame': 2353}\n",
      " {'label': 'walking', 'start_frame': 2317, 'end_frame': 2349}\n",
      " {'label': 'standing', 'start_frame': 2351, 'end_frame': 2799}\n",
      " {'label': 'walking', 'start_frame': 2799, 'end_frame': 2847}\n",
      " {'label': 'steps', 'start_frame': 2799, 'end_frame': 2851}\n",
      " {'label': 'standing', 'start_frame': 2849, 'end_frame': 2979}\n",
      " {'label': 'steps', 'start_frame': 2977, 'end_frame': 3033}\n",
      " {'label': 'walking', 'start_frame': 2981, 'end_frame': 3031}\n",
      " {'label': 'standing', 'start_frame': 3033, 'end_frame': 3135}\n",
      " {'label': 'steps', 'start_frame': 3131, 'end_frame': 3185}\n",
      " {'label': 'walking', 'start_frame': 3137, 'end_frame': 3181}\n",
      " {'label': 'standing', 'start_frame': 3183, 'end_frame': 3399}\n",
      " {'label': 'steps', 'start_frame': 3309, 'end_frame': 3327}\n",
      " {'label': 'steps', 'start_frame': 3391, 'end_frame': 3425}\n",
      " {'label': 'standing', 'start_frame': 3435, 'end_frame': 3543}\n",
      " {'label': 'steps', 'start_frame': 3447, 'end_frame': 3471}\n",
      " {'label': 'steps', 'start_frame': 3561, 'end_frame': 3577}\n",
      " {'label': 'standing', 'start_frame': 3575, 'end_frame': 3641}\n",
      " {'label': 'steps', 'start_frame': 3643, 'end_frame': 3675}\n",
      " {'label': 'standing', 'start_frame': 3677, 'end_frame': 3943}\n",
      " {'label': 'walking', 'start_frame': 3945, 'end_frame': 3999}\n",
      " {'label': 'standing', 'start_frame': 3999, 'end_frame': 4021}\n",
      " {'label': 'walking', 'start_frame': 4023, 'end_frame': 4073}\n",
      " {'label': 'standing', 'start_frame': 4075, 'end_frame': 4761}\n",
      " {'label': 'steps', 'start_frame': 4763, 'end_frame': 4787}\n",
      " {'label': 'standing', 'start_frame': 4789, 'end_frame': 4799}\n",
      " {'label': 'steps', 'start_frame': 4799, 'end_frame': 4823}\n",
      " {'label': 'standing', 'start_frame': 4825, 'end_frame': 4883}\n",
      " {'label': 'steps', 'start_frame': 4885, 'end_frame': 4911}\n",
      " {'label': 'standing', 'start_frame': 4911, 'end_frame': 5115}\n",
      " {'label': 'leaning down', 'start_frame': 5117, 'end_frame': 5217}\n",
      " {'label': 'standing', 'start_frame': 5219, 'end_frame': 5289}\n",
      " {'label': 'walking', 'start_frame': 5291, 'end_frame': 5385}\n",
      " {'label': 'standing', 'start_frame': 5387, 'end_frame': 5423}\n",
      " {'label': 'steps', 'start_frame': 5425, 'end_frame': 5461}\n",
      " {'label': 'standing', 'start_frame': 5463, 'end_frame': 5493}\n",
      " {'label': 'walking', 'start_frame': 5493, 'end_frame': 5599}\n",
      " {'label': 'walking', 'start_frame': 28089, 'end_frame': 28275}\n",
      " {'label': 'walking', 'start_frame': 31647, 'end_frame': 31793}\n",
      " {'label': 'walking', 'start_frame': 34713, 'end_frame': 34879}]\n"
     ]
    }
   ],
   "source": [
    "print(aik.get_activities_for_person(2))"
   ]
  },
  {
   "cell_type": "markdown",
   "metadata": {},
   "source": [
    "Unroll videos using the format indicated in the constructor (This may take a while):\n",
    "- By default, all videos are unrolled and if the frames already exists, they are not overwritten\n",
    "- In order to unroll only one video, you can use the parameter video=X\n",
    "- If you want to overwrite the existing frames, you have to use force=True\n",
    "\n",
    "If the videos are not unrolled before getting the individual frames, then they will be automatically unrolled when you try to get the frames."
   ]
  },
  {
   "cell_type": "code",
   "execution_count": 46,
   "metadata": {},
   "outputs": [
    {
     "name": "stdout",
     "output_type": "stream",
     "text": [
      "The videos are already unrolled. If you want to unroll them again and overwrite the current frames, please use the option force=True\n"
     ]
    }
   ],
   "source": [
    "aik.unroll_videos()\n",
    "#aik.unroll_videos(force=True)             # Force to overwrite unrolled frames\n",
    "#aik.unroll_videos(video=2)                # Unroll only video 2\n",
    "#aik.unroll_videos(force=True, video=2)    # Force to overwrite frames of video 2 if they already exist"
   ]
  },
  {
   "cell_type": "markdown",
   "metadata": {},
   "source": [
    "Get images from 12 cameras for frame 1.\n"
   ]
  },
  {
   "cell_type": "code",
   "execution_count": 47,
   "metadata": {
    "pycharm": {
     "name": "#%%\n"
    }
   },
   "outputs": [
    {
     "name": "stdout",
     "output_type": "stream",
     "text": [
      "Searching for images of frame  1 ...\n",
      "Frame name: frame000000001.png\n",
      "Images of frame  1  retrieved.\n",
      "[array([[[115, 110, 105],\n",
      "        [115, 110, 105],\n",
      "        [113, 108, 103],\n",
      "        ...,\n",
      "        [117, 113,  94],\n",
      "        [117, 113,  94],\n",
      "        [117, 113,  94]],\n",
      "\n",
      "       [[115, 110, 105],\n",
      "        [115, 110, 105],\n",
      "        [113, 108, 103],\n",
      "        ...,\n",
      "        [117, 113,  94],\n",
      "        [117, 113,  94],\n",
      "        [117, 113,  94]],\n",
      "\n",
      "       [[115, 110, 105],\n",
      "        [115, 110, 105],\n",
      "        [113, 108, 103],\n",
      "        ...,\n",
      "        [117, 113,  94],\n",
      "        [117, 113,  94],\n",
      "        [117, 113,  94]],\n",
      "\n",
      "       ...,\n",
      "\n",
      "       [[106, 101,  98],\n",
      "        [106, 101,  98],\n",
      "        [106, 101,  98],\n",
      "        ...,\n",
      "        [161, 157, 141],\n",
      "        [161, 157, 141],\n",
      "        [161, 157, 141]],\n",
      "\n",
      "       [[106, 101,  98],\n",
      "        [106, 101,  98],\n",
      "        [106, 101,  98],\n",
      "        ...,\n",
      "        [161, 157, 141],\n",
      "        [161, 157, 141],\n",
      "        [161, 157, 141]],\n",
      "\n",
      "       [[106, 101,  98],\n",
      "        [106, 101,  98],\n",
      "        [106, 101,  98],\n",
      "        ...,\n",
      "        [161, 157, 141],\n",
      "        [161, 157, 141],\n",
      "        [161, 157, 141]]], dtype=uint8), array([[[232, 220, 200],\n",
      "        [232, 220, 200],\n",
      "        [232, 220, 200],\n",
      "        ...,\n",
      "        [111, 111, 106],\n",
      "        [111, 111, 106],\n",
      "        [111, 111, 106]],\n",
      "\n",
      "       [[232, 220, 200],\n",
      "        [232, 220, 200],\n",
      "        [232, 220, 200],\n",
      "        ...,\n",
      "        [111, 111, 106],\n",
      "        [111, 111, 106],\n",
      "        [111, 111, 106]],\n",
      "\n",
      "       [[232, 220, 200],\n",
      "        [232, 220, 200],\n",
      "        [232, 220, 200],\n",
      "        ...,\n",
      "        [111, 111, 106],\n",
      "        [111, 111, 106],\n",
      "        [111, 111, 106]],\n",
      "\n",
      "       ...,\n",
      "\n",
      "       [[162, 157, 152],\n",
      "        [161, 156, 151],\n",
      "        [157, 152, 147],\n",
      "        ...,\n",
      "        [191, 197, 205],\n",
      "        [191, 197, 205],\n",
      "        [191, 197, 205]],\n",
      "\n",
      "       [[162, 157, 152],\n",
      "        [161, 156, 151],\n",
      "        [157, 152, 147],\n",
      "        ...,\n",
      "        [191, 197, 205],\n",
      "        [191, 197, 205],\n",
      "        [191, 197, 205]],\n",
      "\n",
      "       [[161, 156, 151],\n",
      "        [160, 155, 150],\n",
      "        [156, 151, 146],\n",
      "        ...,\n",
      "        [191, 197, 205],\n",
      "        [191, 197, 205],\n",
      "        [191, 197, 205]]], dtype=uint8)]\n"
     ]
    }
   ],
   "source": [
    "print(aik.get_images_in_frame(1))"
   ]
  }
 ],
 "metadata": {
  "kernelspec": {
   "display_name": "Python 3",
   "language": "python",
   "name": "python3"
  },
  "language_info": {
   "codemirror_mode": {
    "name": "ipython",
    "version": 3
   },
   "file_extension": ".py",
   "mimetype": "text/x-python",
   "name": "python",
   "nbconvert_exporter": "python",
   "pygments_lexer": "ipython3",
   "version": "3.6.9"
  }
 },
 "nbformat": 4,
 "nbformat_minor": 1
}