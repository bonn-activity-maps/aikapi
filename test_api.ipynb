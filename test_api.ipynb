{
 "cells": [
  {
   "cell_type": "code",
   "execution_count": 1,
   "metadata": {
    "collapsed": true
   },
   "outputs": [],
   "source": [
    "from PythonAPI.aik import AIK"
   ]
  },
  {
   "cell_type": "markdown",
   "metadata": {},
   "source": [
    "Define the absolute path to the dataset and the dataset name.\n",
    "\n",
    "Create AIK object to load the dataset:\n",
    "\n",
    "- The videos will be automatically unrolled if it is the first time you create the dataset (this may take a while).\n",
    "- All the annotations will be also loaded into memory and processed.\n",
    "- The videos are unrolled in png images by default, but the format can be changed to jpeg."
   ]
  },
  {
   "cell_type": "code",
   "execution_count": 2,
   "metadata": {
    "pycharm": {
     "name": "#%%\n"
    }
   },
   "outputs": [
    {
     "name": "stdout",
     "output_type": "stream",
     "text": [
      "Reading dataset information...\n",
      "Loading calibration parameters...\n",
      "     camera00.json...\n",
      "     camera01.json...\n",
      "     camera02.json...\n",
      "     camera03.json...\n",
      "     camera04.json...\n",
      "     camera05.json...\n",
      "     camera06.json...\n",
      "     camera07.json...\n",
      "     camera08.json...\n",
      "     camera09.json...\n",
      "     camera10.json...\n",
      "     camera11.json...\n",
      "Loading annotations...\n",
      "Processing persons...\n",
      "Processing actions...\n",
      "Finish loading dataset\n"
     ]
    }
   ],
   "source": [
    "dataset_dir = '/home/beatriz/Documentos/Work'\n",
    "dataset_name = '181129'\n",
    "\n",
    "aik = AIK(dataset_dir, dataset_name, image_format='png')"
   ]
  },
  {
   "cell_type": "markdown",
   "metadata": {},
   "source": [
    "Get camera calibration parameters for camera 3 and frame 500"
   ]
  },
  {
   "cell_type": "code",
   "execution_count": 9,
   "metadata": {
    "pycharm": {
     "name": "#%%\n"
    },
    "scrolled": true
   },
   "outputs": [
    {
     "name": "stdout",
     "output_type": "stream",
     "text": [
      "{'w': 1280, 'h': 720, 'start_frame': 1, 'end_frame': 51789, 'tvec': [1.1961316849607015, 0.39258168464830795, 5.646644722770345], 'rvec': [0.4403006371758825, -2.2728705257866375, 1.7474119097173406], 'distCoef': [0.0, 0.0, 0.0, 0.0, 0.0], 'K': [[1059.1110829666356, 0.0, 638.3440062575208], [0.0, 1058.1497403584108, 394.7500309419925], [0.0, 0.0, 1.0]]}\n"
     ]
    }
   ],
   "source": [
    "print(aik.get_calibration_params(3, 1))"
   ]
  },
  {
   "cell_type": "markdown",
   "metadata": {},
   "source": [
    "Get an array with all persons annotated in frame 1000"
   ]
  },
  {
   "cell_type": "code",
   "execution_count": 8,
   "metadata": {
    "pycharm": {
     "name": "#%%\n"
    }
   },
   "outputs": [
    {
     "name": "stdout",
     "output_type": "stream",
     "text": [
      "[{'pid': 1, 'location': [[0.4725225083438994, 3.2036562873361634, 1.5915690694943898]]}\n",
      " {'pid': 1, 'location': [[0.4940468668937683, 3.0975520610809326, 1.5879707336425781], [0.33225908875465393, 3.3022162914276123, 1.4874387979507446], [0.248513141442759, 3.1166828037377776, 1.4797768626685919], [0.20898175630705926, 3.074002764986737, 1.1761494834683632], [0.4430496301335054, 3.003187955078469, 1.0902041995243112], [0.38873064050115674, 3.427037257731697, 1.496395562953885], [0.3684694009394898, 3.523452423490153, 1.2177340325466113], [0.491342276987256, 3.4243839963247877, 1.097171939112425], [0.23896421401011708, 3.189862974200601, 0.9370316866970752], [0.24986874568797326, 3.1303426266153522, 0.554225104984327], [0.1988182237148894, 3.1238738197003224, 0.13678569408919353], [0.3448095801460418, 3.369042606439794, 0.9246938349214029], [0.338286297862635, 3.3997655290610216, 0.5305125781965845], [0.26704269329099944, 3.4579307929059104, 0.12287995423906839], [0.4640180468559265, 3.098863124847412, 1.620947539806366], [0.5159120857715607, 3.104530453681946, 1.6131974458694458], [0.373912051320076, 3.1984314918518066, 1.661201536655426], [0.44567590951919556, 3.4155161380767822, 1.6613013744354248], [0.41775786876678467, 3.447473168373108, 0.09681456908583641], [], [0.23499519377946854, 3.466580867767334, 0.06517711095511913], [0.3403117209672928, 2.8735851049423218, 0.1176888756453991], [0.29075057804584503, 2.879407286643982, 0.11120006069540977], [0.16561637073755264, 3.166993737220764, 0.08272380754351616]]}]\n"
     ]
    }
   ],
   "source": [
    "print(aik.get_persons_in_frame(1000))"
   ]
  },
  {
   "cell_type": "markdown",
   "metadata": {},
   "source": [
    "Get the pose for person with pid 1 in frame 380"
   ]
  },
  {
   "cell_type": "code",
   "execution_count": 11,
   "metadata": {
    "pycharm": {
     "name": "#%%\n"
    }
   },
   "outputs": [
    {
     "name": "stdout",
     "output_type": "stream",
     "text": [
      "[[0.498339264765202, 3.2171029078369897, 1.5828869056621102]]\n"
     ]
    }
   ],
   "source": [
    "print(aik.get_person_in_frame(999, 1))"
   ]
  },
  {
   "cell_type": "markdown",
   "metadata": {},
   "source": [
    "Get an array with all activities for person with pid 2"
   ]
  },
  {
   "cell_type": "code",
   "execution_count": 6,
   "metadata": {
    "pycharm": {
     "name": "#%%\n"
    }
   },
   "outputs": [
    {
     "name": "stdout",
     "output_type": "stream",
     "text": [
      "[{'label': 'carry plate', 'start_frame': 2271, 'end_frame': 2367}\n",
      " {'label': 'carry cake', 'start_frame': 2647, 'end_frame': 2739}\n",
      " {'label': 'carry cup', 'start_frame': 1009, 'end_frame': 1187}\n",
      " {'label': 'open fridge', 'start_frame': 1197, 'end_frame': 1229}\n",
      " {'label': 'take cake out of fridge', 'start_frame': 1245, 'end_frame': 1345}\n",
      " {'label': 'carry cake', 'start_frame': 1271, 'end_frame': 1387}\n",
      " {'label': 'close fridge', 'start_frame': 1333, 'end_frame': 1363}\n",
      " {'label': 'place cake on table', 'start_frame': 1387, 'end_frame': 1399}\n",
      " {'label': 'open drawer', 'start_frame': 1531, 'end_frame': 1571}\n",
      " {'label': 'close drawer', 'start_frame': 1607, 'end_frame': 1649}\n",
      " {'label': 'cut cake in pieces', 'start_frame': 1723, 'end_frame': 2105}\n",
      " {'label': 'open cupboard', 'start_frame': 2133, 'end_frame': 2159}\n",
      " {'label': 'close cupboard', 'start_frame': 2159, 'end_frame': 2199}\n",
      " {'label': 'open cupboard', 'start_frame': 2223, 'end_frame': 2253}\n",
      " {'label': 'close cupboard', 'start_frame': 2275, 'end_frame': 2297}\n",
      " {'label': 'cut cake in pieces', 'start_frame': 2367, 'end_frame': 2599}\n",
      " {'label': 'place cake on plate', 'start_frame': 2599, 'end_frame': 2745}\n",
      " {'label': 'washing hands', 'start_frame': 2845, 'end_frame': 2983}\n",
      " {'label': 'carry plate', 'start_frame': 3017, 'end_frame': 3265}\n",
      " {'label': 'open drawer', 'start_frame': 3041, 'end_frame': 3069}\n",
      " {'label': 'close drawer', 'start_frame': 3091, 'end_frame': 3137}\n",
      " {'label': 'take cup from coffee machine', 'start_frame': 3189, 'end_frame': 3205}\n",
      " {'label': 'carry cup', 'start_frame': 3199, 'end_frame': 3233}\n",
      " {'label': 'carry cup', 'start_frame': 3301, 'end_frame': 3341}\n",
      " {'label': 'place cup onto coffee machine', 'start_frame': 3325, 'end_frame': 3343}\n",
      " {'label': 'make coffee', 'start_frame': 3335, 'end_frame': 4731}\n",
      " {'label': 'press coffee button', 'start_frame': 3353, 'end_frame': 3371}\n",
      " {'label': 'mark coffee', 'start_frame': 3425, 'end_frame': 3543}\n",
      " {'label': 'carry plate', 'start_frame': 3919, 'end_frame': 3997}\n",
      " {'label': 'take cup from coffee machine', 'start_frame': 4713, 'end_frame': 4759}\n",
      " {'label': 'carry cup', 'start_frame': 4719, 'end_frame': 4787}\n",
      " {'label': 'open fridge', 'start_frame': 4807, 'end_frame': 4841}\n",
      " {'label': 'take milk', 'start_frame': 4859, 'end_frame': 5173}\n",
      " {'label': 'close fridge', 'start_frame': 4861, 'end_frame': 4895}\n",
      " {'label': 'pour milk', 'start_frame': 4969, 'end_frame': 5043}\n",
      " {'label': 'open fridge', 'start_frame': 5113, 'end_frame': 5135}\n",
      " {'label': 'close fridge', 'start_frame': 5219, 'end_frame': 5251}\n",
      " {'label': 'clean countertop', 'start_frame': 5249, 'end_frame': 5289}\n",
      " {'label': 'carry cup', 'start_frame': 5251, 'end_frame': 5335}\n",
      " {'label': 'carry plate', 'start_frame': 5381, 'end_frame': 5599}\n",
      " {'label': 'carry cup', 'start_frame': 5475, 'end_frame': 5599}\n",
      " {'label': 'walking', 'start_frame': 1001, 'end_frame': 1147}\n",
      " {'label': 'standing', 'start_frame': 1149, 'end_frame': 1181}\n",
      " {'label': 'leaning down', 'start_frame': 1183, 'end_frame': 1315}\n",
      " {'label': 'standing up', 'start_frame': 1317, 'end_frame': 1351}\n",
      " {'label': 'standing', 'start_frame': 1353, 'end_frame': 2199}\n",
      " {'label': 'steps', 'start_frame': 1505, 'end_frame': 1533}\n",
      " {'label': 'steps', 'start_frame': 2129, 'end_frame': 2153}\n",
      " {'label': 'steps', 'start_frame': 2199, 'end_frame': 2237}\n",
      " {'label': 'standing', 'start_frame': 2237, 'end_frame': 2315}\n",
      " {'label': 'steps', 'start_frame': 2305, 'end_frame': 2353}\n",
      " {'label': 'walking', 'start_frame': 2317, 'end_frame': 2349}\n",
      " {'label': 'standing', 'start_frame': 2351, 'end_frame': 2799}\n",
      " {'label': 'walking', 'start_frame': 2799, 'end_frame': 2847}\n",
      " {'label': 'steps', 'start_frame': 2799, 'end_frame': 2851}\n",
      " {'label': 'standing', 'start_frame': 2849, 'end_frame': 2979}\n",
      " {'label': 'steps', 'start_frame': 2977, 'end_frame': 3033}\n",
      " {'label': 'walking', 'start_frame': 2981, 'end_frame': 3031}\n",
      " {'label': 'standing', 'start_frame': 3033, 'end_frame': 3135}\n",
      " {'label': 'steps', 'start_frame': 3131, 'end_frame': 3185}\n",
      " {'label': 'walking', 'start_frame': 3137, 'end_frame': 3181}\n",
      " {'label': 'standing', 'start_frame': 3183, 'end_frame': 3399}\n",
      " {'label': 'steps', 'start_frame': 3309, 'end_frame': 3327}\n",
      " {'label': 'steps', 'start_frame': 3391, 'end_frame': 3425}\n",
      " {'label': 'standing', 'start_frame': 3435, 'end_frame': 3543}\n",
      " {'label': 'steps', 'start_frame': 3447, 'end_frame': 3471}\n",
      " {'label': 'steps', 'start_frame': 3561, 'end_frame': 3577}\n",
      " {'label': 'standing', 'start_frame': 3575, 'end_frame': 3641}\n",
      " {'label': 'steps', 'start_frame': 3643, 'end_frame': 3675}\n",
      " {'label': 'standing', 'start_frame': 3677, 'end_frame': 3943}\n",
      " {'label': 'walking', 'start_frame': 3945, 'end_frame': 3999}\n",
      " {'label': 'standing', 'start_frame': 3999, 'end_frame': 4021}\n",
      " {'label': 'walking', 'start_frame': 4023, 'end_frame': 4073}\n",
      " {'label': 'standing', 'start_frame': 4075, 'end_frame': 4761}\n",
      " {'label': 'steps', 'start_frame': 4763, 'end_frame': 4787}\n",
      " {'label': 'standing', 'start_frame': 4789, 'end_frame': 4799}\n",
      " {'label': 'steps', 'start_frame': 4799, 'end_frame': 4823}\n",
      " {'label': 'standing', 'start_frame': 4825, 'end_frame': 4883}\n",
      " {'label': 'steps', 'start_frame': 4885, 'end_frame': 4911}\n",
      " {'label': 'standing', 'start_frame': 4911, 'end_frame': 5115}\n",
      " {'label': 'leaning down', 'start_frame': 5117, 'end_frame': 5217}\n",
      " {'label': 'standing', 'start_frame': 5219, 'end_frame': 5289}\n",
      " {'label': 'walking', 'start_frame': 5291, 'end_frame': 5385}\n",
      " {'label': 'standing', 'start_frame': 5387, 'end_frame': 5423}\n",
      " {'label': 'steps', 'start_frame': 5425, 'end_frame': 5461}\n",
      " {'label': 'standing', 'start_frame': 5463, 'end_frame': 5493}\n",
      " {'label': 'walking', 'start_frame': 5493, 'end_frame': 5599}\n",
      " {'label': 'walking', 'start_frame': 28089, 'end_frame': 28275}\n",
      " {'label': 'walking', 'start_frame': 31647, 'end_frame': 31793}\n",
      " {'label': 'walking', 'start_frame': 34713, 'end_frame': 34879}]\n"
     ]
    }
   ],
   "source": [
    "print(aik.get_activities_for_person(2))"
   ]
  },
  {
   "cell_type": "markdown",
   "metadata": {},
   "source": [
    "Get images from 12 cameras for frame 1"
   ]
  },
  {
   "cell_type": "code",
   "execution_count": 7,
   "metadata": {
    "pycharm": {
     "name": "#%%\n"
    }
   },
   "outputs": [
    {
     "name": "stdout",
     "output_type": "stream",
     "text": [
      "Searching for images of frame  1 ...\n",
      "Frame name: frame000000001.png\n",
      "Images of frame  1  retrieved.\n",
      "[array([[[232, 220, 200],\n",
      "        [232, 220, 200],\n",
      "        [232, 220, 200],\n",
      "        ...,\n",
      "        [111, 111, 106],\n",
      "        [111, 111, 106],\n",
      "        [111, 111, 106]],\n",
      "\n",
      "       [[232, 220, 200],\n",
      "        [232, 220, 200],\n",
      "        [232, 220, 200],\n",
      "        ...,\n",
      "        [111, 111, 106],\n",
      "        [111, 111, 106],\n",
      "        [111, 111, 106]],\n",
      "\n",
      "       [[232, 220, 200],\n",
      "        [232, 220, 200],\n",
      "        [232, 220, 200],\n",
      "        ...,\n",
      "        [111, 111, 106],\n",
      "        [111, 111, 106],\n",
      "        [111, 111, 106]],\n",
      "\n",
      "       ...,\n",
      "\n",
      "       [[162, 157, 152],\n",
      "        [161, 156, 151],\n",
      "        [157, 152, 147],\n",
      "        ...,\n",
      "        [191, 197, 205],\n",
      "        [191, 197, 205],\n",
      "        [191, 197, 205]],\n",
      "\n",
      "       [[162, 157, 152],\n",
      "        [161, 156, 151],\n",
      "        [157, 152, 147],\n",
      "        ...,\n",
      "        [191, 197, 205],\n",
      "        [191, 197, 205],\n",
      "        [191, 197, 205]],\n",
      "\n",
      "       [[161, 156, 151],\n",
      "        [160, 155, 150],\n",
      "        [156, 151, 146],\n",
      "        ...,\n",
      "        [191, 197, 205],\n",
      "        [191, 197, 205],\n",
      "        [191, 197, 205]]], dtype=uint8)]\n"
     ]
    }
   ],
   "source": [
    "print(aik.get_images_in_frame(1))"
   ]
  },
  {
   "cell_type": "markdown",
   "metadata": {
    "pycharm": {
     "name": "#%% md\n"
    }
   },
   "source": []
  },
  {
   "cell_type": "code",
   "execution_count": 7,
   "metadata": {
    "pycharm": {
     "name": "#%%\n"
    }
   },
   "outputs": [],
   "source": []
  }
 ],
 "metadata": {
  "kernelspec": {
   "display_name": "Python 3",
   "language": "python",
   "name": "python3"
  },
  "language_info": {
   "codemirror_mode": {
    "name": "ipython",
    "version": 3
   },
   "file_extension": ".py",
   "mimetype": "text/x-python",
   "name": "python",
   "nbconvert_exporter": "python",
   "pygments_lexer": "ipython3",
   "version": "3.6.9"
  }
 },
 "nbformat": 4,
 "nbformat_minor": 1
}