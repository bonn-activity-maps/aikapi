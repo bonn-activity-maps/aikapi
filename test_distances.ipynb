{
 "cells": [
  {
   "cell_type": "code",
   "execution_count": 1,
   "metadata": {},
   "outputs": [],
   "source": [
    "import numpy as np\n",
    "from PythonAPI.bam import BAM"
   ]
  },
  {
   "cell_type": "code",
   "execution_count": 2,
   "metadata": {},
   "outputs": [
    {
     "name": "stdout",
     "output_type": "stream",
     "text": [
      "Reading dataset information...\n",
      "Loading calibration parameters...\n",
      "     camera00.json...\n",
      "     camera01.json...\n",
      "     camera02.json...\n",
      "     camera03.json...\n",
      "     camera04.json...\n",
      "     camera05.json...\n",
      "     camera06.json...\n",
      "     camera07.json...\n",
      "     camera08.json...\n",
      "     camera09.json...\n",
      "     camera10.json...\n",
      "     camera11.json...\n",
      "Loading annotations...\n",
      "Processing persons...\n",
      "Processing objects...\n",
      "Processing actions...\n",
      "Finish loading dataset\n"
     ]
    }
   ],
   "source": [
    "dataset_dir = '/home/almartmen/Github/bonn_activity_maps/aikapi' \n",
    "dataset_name = '181129'\n",
    "\n",
    "bam = BAM(dataset_dir, dataset_name, image_format='png')"
   ]
  },
  {
   "cell_type": "markdown",
   "metadata": {},
   "source": [
    "First, lets test the distance with box AIK objects"
   ]
  },
  {
   "cell_type": "code",
   "execution_count": 3,
   "metadata": {},
   "outputs": [],
   "source": [
    "box_points = np.asarray([[0,0,1],[1,0,1],[0,1,0]])"
   ]
  },
  {
   "cell_type": "code",
   "execution_count": 4,
   "metadata": {},
   "outputs": [],
   "source": [
    "point_1 = np.asarray([2,0,0])\n",
    "point_2 = np.asarray([0.5, 0.5, 0.5])\n",
    "point_3 = np.asarray([0.5, 0.5, 3])\n",
    "point_4 = np.asarray([0, 0.5, 0.5])\n",
    "point_5 = np.asarray([-0.1, 0.5, 0.5])\n",
    "point_6 = np.asarray([2,0.5,2])"
   ]
  },
  {
   "cell_type": "code",
   "execution_count": 5,
   "metadata": {},
   "outputs": [],
   "source": [
    "distance_1 = bam.distance_to_static_object(\"boxAIK\", box_points, point_1)\n",
    "distance_2 = bam.distance_to_static_object(\"boxAIK\", box_points, point_2)\n",
    "distance_3 = bam.distance_to_static_object(\"boxAIK\", box_points, point_3)\n",
    "distance_4 = bam.distance_to_static_object(\"boxAIK\", box_points, point_4)\n",
    "distance_5 = bam.distance_to_static_object(\"boxAIK\", box_points, point_5)\n",
    "distance_6 = bam.distance_to_static_object(\"boxAIK\", box_points, point_6)"
   ]
  },
  {
   "cell_type": "code",
   "execution_count": 6,
   "metadata": {},
   "outputs": [
    {
     "name": "stdout",
     "output_type": "stream",
     "text": [
      "[-1.  0.  0.]\n",
      "[0, 0, 0]\n",
      "[ 0.  0. -2.]\n",
      "[0. 0. 0.]\n",
      "[0.1 0.  0. ]\n",
      "[-1.  0. -1.]\n"
     ]
    }
   ],
   "source": [
    "print(distance_1)\n",
    "print(distance_2)\n",
    "print(distance_3)\n",
    "print(distance_4)\n",
    "print(distance_5)\n",
    "print(distance_6)"
   ]
  },
  {
   "cell_type": "markdown",
   "metadata": {},
   "source": [
    "Now, lets test the distances with cylinder AIK objects"
   ]
  },
  {
   "cell_type": "code",
   "execution_count": 7,
   "metadata": {},
   "outputs": [],
   "source": [
    "cylinder_points = np.asarray([[1,1,2], [2,1,2]])"
   ]
  },
  {
   "cell_type": "code",
   "execution_count": 8,
   "metadata": {},
   "outputs": [],
   "source": [
    "point_1 = np.asarray([0.5,0.5,4])\n",
    "point_2 = np.asarray([4, 1, 1])\n",
    "point_3 = np.asarray([2.5, 1, 2])\n",
    "point_4 = np.asarray([2.5, 1, 3])"
   ]
  },
  {
   "cell_type": "code",
   "execution_count": 9,
   "metadata": {},
   "outputs": [],
   "source": [
    "distance_1 = bam.distance_to_static_object(\"cylinderAIK\", cylinder_points, point_1)\n",
    "distance_2 = bam.distance_to_static_object(\"cylinderAIK\", cylinder_points, point_2)\n",
    "distance_3 = bam.distance_to_static_object(\"cylinderAIK\", cylinder_points, point_3)\n",
    "distance_4 = bam.distance_to_static_object(\"cylinderAIK\", cylinder_points, point_4)"
   ]
  },
  {
   "cell_type": "code",
   "execution_count": 10,
   "metadata": {},
   "outputs": [
    {
     "name": "stdout",
     "output_type": "stream",
     "text": [
      "[ 0.  0. -2.]\n",
      "[-2.  0.  0.]\n",
      "[-0.5  0.   0. ]\n",
      "[-0.5  0.  -1. ]\n"
     ]
    }
   ],
   "source": [
    "print(distance_1)\n",
    "print(distance_2)\n",
    "print(distance_3)\n",
    "print(distance_4)"
   ]
  },
  {
   "cell_type": "code",
   "execution_count": null,
   "metadata": {},
   "outputs": [],
   "source": []
  }
 ],
 "metadata": {
  "kernelspec": {
   "display_name": "Python 3",
   "language": "python",
   "name": "python3"
  },
  "language_info": {
   "codemirror_mode": {
    "name": "ipython",
    "version": 3
   },
   "file_extension": ".py",
   "mimetype": "text/x-python",
   "name": "python",
   "nbconvert_exporter": "python",
   "pygments_lexer": "ipython3",
   "version": "3.8.5"
  }
 },
 "nbformat": 4,
 "nbformat_minor": 4
}
